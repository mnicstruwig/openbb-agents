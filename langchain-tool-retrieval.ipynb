{
 "cells": [
  {
   "cell_type": "code",
   "execution_count": 1,
   "metadata": {},
   "outputs": [],
   "source": [
    "from langchain.chat_models import ChatOpenAI\n",
    "from langchain.prompts import ChatPromptTemplate, MessagesPlaceholder\n",
    "from langchain.schema import StrOutputParser\n",
    "from langchain.agents.output_parsers import OpenAIFunctionsAgentOutputParser"
   ]
  },
  {
   "cell_type": "code",
   "execution_count": 2,
   "metadata": {},
   "outputs": [],
   "source": [
    "# Let's set-up our tool retrieval\n",
    "from langchain.embeddings import OpenAIEmbeddings\n",
    "from langchain.schema import Document\n",
    "from langchain.vectorstores import FAISS\n",
    "from utils import map_openbb_collection_to_langchain_tools\n",
    "\n",
    "fundamental_openbb_tools = map_openbb_collection_to_langchain_tools(\"/equity/fundamental\")\n",
    "\n",
    "docs = [\n",
    "    Document(page_content=t.description, metadata={\"index\": i})\n",
    "    for i, t in enumerate(fundamental_openbb_tools)\n",
    "]\n",
    "\n",
    "vector_store = FAISS.from_documents(docs, OpenAIEmbeddings())"
   ]
  },
  {
   "cell_type": "code",
   "execution_count": 3,
   "metadata": {},
   "outputs": [
    {
     "data": {
      "text/plain": [
       "4"
      ]
     },
     "execution_count": 3,
     "metadata": {},
     "output_type": "execute_result"
    }
   ],
   "source": [
    "retriever = vector_store.as_retriever() # <- by default returns 4\n",
    "\n",
    "def get_tools(query):\n",
    "    docs = retriever.get_relevant_documents(query)\n",
    "    return [fundamental_openbb_tools[d.metadata[\"index\"]] for d in docs]\n",
    "\n",
    "# Quick test\n",
    "fetched_tools = get_tools(\"income statement\")\n",
    "len(fetched_tools)"
   ]
  },
  {
   "cell_type": "code",
   "execution_count": 4,
   "metadata": {},
   "outputs": [],
   "source": [
    "# Let's wrap this in a tool\n",
    "from langchain.tools import StructuredTool, Tool\n",
    "fetch_tools = [\n",
    "    Tool(\n",
    "        name=\"fetch_tools\",\n",
    "        description=\"Useful for fetching a list of tools to use when answering queries.\",\n",
    "        func=get_tools,\n",
    "    )\n",
    "]"
   ]
  },
  {
   "cell_type": "code",
   "execution_count": 8,
   "metadata": {},
   "outputs": [
    {
     "name": "stdout",
     "output_type": "stream",
     "text": [
      "['income', 'income_growth', 'cash', 'balance']\n",
      "\n",
      "\n",
      "\u001b[1m> Entering new AgentExecutor chain...\u001b[0m\n",
      "\u001b[32;1m\u001b[1;3m\n",
      "Invoking: `income` with `{'symbol': 'TSLA'}`\n",
      "\n",
      "\n",
      "\u001b[0m\u001b[36;1m\u001b[1;3m[FMPIncomeStatementData(symbol=TSLA, date=2022-12-31, period=FY, cik=0001318605, revenue=81462000000.0, cost_of_revenue=60609000000.0, gross_profit=20853000000.0, cost_and_expenses=67630000000.0, gross_profit_ratio=0.2559843854, research_and_development_expenses=3075000000.0, general_and_administrative_expenses=0.0, selling_and_marketing_expenses=0.0, selling_general_and_administrative_expenses=3946000000.0, other_expenses=-43000000.0, operating_expenses=7021000000.0, depreciation_and_amortization=4177000000.0, ebit=None, ebitda=17833000000.0, ebitda_ratio=0.2189118853, operating_income=13656000000.0, operating_income_ratio=0.167636444, interest_income=297000000.0, interest_expense=191000000.0, total_other_income_expenses_net=63000000.0, income_before_tax=13719000000.0, income_before_tax_ratio=0.1684098107, income_tax_expense=1132000000.0, net_income=12583000000.0, net_income_ratio=0.1544646584, eps=4.02, eps_diluted=3.62, weighted_average_shares_outstanding=3130000000.0, weighted_average_shares_outstanding_dil=3475000000.0, link=https://www.sec.gov/Archives/edgar/data/1318605/000095017023001409/0000950170-23-001409-index.htm, final_link=https://www.sec.gov/Archives/edgar/data/1318605/000095017023001409/tsla-20221231.htm, reported_currency=USD, filling_date=2023-01-31, accepted_date=2023-01-30 21:29:15, calendar_year=2022), FMPIncomeStatementData(symbol=TSLA, date=2021-12-31, period=FY, cik=0001318605, revenue=53823000000.0, cost_of_revenue=40217000000.0, gross_profit=13606000000.0, cost_and_expenses=47327000000.0, gross_profit_ratio=0.2527915575, research_and_development_expenses=2593000000.0, general_and_administrative_expenses=0.0, selling_and_marketing_expenses=0.0, selling_general_and_administrative_expenses=4517000000.0, other_expenses=135000000.0, operating_expenses=7110000000.0, depreciation_and_amortization=2911000000.0, ebit=None, ebitda=9598000000.0, ebitda_ratio=0.1783252513, operating_income=6687000000.0, operating_income_ratio=0.1242405663, interest_income=56000000.0, interest_expense=371000000.0, total_other_income_expenses_net=-344000000.0, income_before_tax=6343000000.0, income_before_tax_ratio=0.1178492466, income_tax_expense=699000000.0, net_income=5519000000.0, net_income_ratio=0.1025398064, eps=1.87, eps_diluted=1.63, weighted_average_shares_outstanding=2958000000.0, weighted_average_shares_outstanding_dil=3387000000.0, link=https://www.sec.gov/Archives/edgar/data/1318605/000095017022000796/0000950170-22-000796-index.htm, final_link=https://www.sec.gov/Archives/edgar/data/1318605/000095017022000796/tsla-20211231.htm, reported_currency=USD, filling_date=2022-02-07, accepted_date=2022-02-04 20:11:27, calendar_year=2021), FMPIncomeStatementData(symbol=TSLA, date=2020-12-31, period=FY, cik=0001318605, revenue=31536000000.0, cost_of_revenue=24906000000.0, gross_profit=6630000000.0, cost_and_expenses=29542000000.0, gross_profit_ratio=0.2102359209, research_and_development_expenses=1491000000.0, general_and_administrative_expenses=0.0, selling_and_marketing_expenses=0.0, selling_general_and_administrative_expenses=3145000000.0, other_expenses=-122000000.0, operating_expenses=4636000000.0, depreciation_and_amortization=2230000000.0, ebit=None, ebitda=4224000000.0, ebitda_ratio=0.1339421613, operating_income=1994000000.0, operating_income_ratio=0.0632293252, interest_income=30000000.0, interest_expense=748000000.0, total_other_income_expenses_net=-840000000.0, income_before_tax=1154000000.0, income_before_tax_ratio=0.0365930999, income_tax_expense=292000000.0, net_income=690000000.0, net_income_ratio=0.0218797565, eps=0.25, eps_diluted=0.21, weighted_average_shares_outstanding=2799000000.0, weighted_average_shares_outstanding_dil=3249000000.0, link=https://www.sec.gov/Archives/edgar/data/1318605/000156459021004599/0001564590-21-004599-index.htm, final_link=https://www.sec.gov/Archives/edgar/data/1318605/000156459021004599/tsla-10k_20201231.htm, reported_currency=USD, filling_date=2021-02-08, accepted_date=2021-02-08 07:27:23, calendar_year=2020), FMPIncomeStatementData(symbol=TSLA, date=2019-12-31, period=FY, cik=0001318605, revenue=24578000000.0, cost_of_revenue=20509000000.0, gross_profit=4069000000.0, cost_and_expenses=24498000000.0, gross_profit_ratio=0.165554561, research_and_development_expenses=1343000000.0, general_and_administrative_expenses=0.0, selling_and_marketing_expenses=0.0, selling_general_and_administrative_expenses=2646000000.0, other_expenses=45000000.0, operating_expenses=3989000000.0, depreciation_and_amortization=2154000000.0, ebit=None, ebitda=2323000000.0, ebitda_ratio=0.0945154203, operating_income=169000000.0, operating_income_ratio=0.006876068, interest_income=44000000.0, interest_expense=685000000.0, total_other_income_expenses_net=-834000000.0, income_before_tax=-665000000.0, income_before_tax_ratio=-0.0270567174, income_tax_expense=110000000.0, net_income=-775000000.0, net_income_ratio=-0.0315322646, eps=-0.29, eps_diluted=-0.29, weighted_average_shares_outstanding=2661000000.0, weighted_average_shares_outstanding_dil=2661000000.0, link=https://www.sec.gov/Archives/edgar/data/1318605/000156459020004475/0001564590-20-004475-index.htm, final_link=https://www.sec.gov/Archives/edgar/data/1318605/000156459020004475/tsla-10k_20191231.htm, reported_currency=USD, filling_date=2020-02-13, accepted_date=2020-02-13 07:12:18, calendar_year=2019), FMPIncomeStatementData(symbol=TSLA, date=2018-12-31, period=FY, cik=0001318605, revenue=21461268000.0, cost_of_revenue=17419247000.0, gross_profit=4042021000.0, cost_and_expenses=21714108000.0, gross_profit_ratio=0.1883402695, research_and_development_expenses=1460370000.0, general_and_administrative_expenses=0.0, selling_and_marketing_expenses=0.0, selling_general_and_administrative_expenses=2834491000.0, other_expenses=21866000.0, operating_expenses=4294861000.0, depreciation_and_amortization=1901050000.0, ebit=None, ebitda=1694609000.0, ebitda_ratio=0.0789612711, operating_income=-388073000.0, operating_income_ratio=-0.0180824824, interest_income=24533000.0, interest_expense=663071000.0, total_other_income_expenses_net=-113367000.0, income_before_tax=-1004745000.0, income_before_tax_ratio=-0.0468166653, income_tax_expense=57837000.0, net_income=-976091000.0, net_income_ratio=-0.0454815158, eps=-0.38, eps_diluted=-0.38, weighted_average_shares_outstanding=2559000000.0, weighted_average_shares_outstanding_dil=2559000000.0, link=https://www.sec.gov/Archives/edgar/data/1318605/000156459019003165/0001564590-19-003165-index.htm, final_link=https://www.sec.gov/Archives/edgar/data/1318605/000156459019003165/tsla-10k_20181231.htm, reported_currency=USD, filling_date=2019-02-19, accepted_date=2019-02-19 06:10:16, calendar_year=2018)]\u001b[0m\u001b[32;1m\u001b[1;3mHere's the most recent annual income statement for Tesla, Inc. (TSLA) for the year ending December 31, 2022:\n",
      "\n",
      "- Revenue: $81,462,000,000\n",
      "- Cost of Revenue: $60,609,000,000\n",
      "- Gross Profit: $20,853,000,000\n",
      "- Selling, General and Administrative Expenses: $3,946,000,000\n",
      "- Research and Development Expenses: $3,075,000,000\n",
      "- Operating Expenses: $7,021,000,000\n",
      "- Depreciation and Amortization: $4,177,000,000\n",
      "- Operating Income: $13,656,000,000\n",
      "- Interest Income: $297,000,000\n",
      "- Interest Expense: $191,000,000\n",
      "- Total Other Income/Expenses Net: $63,000,000\n",
      "- Income Before Tax: $13,719,000,000\n",
      "- Income Tax Expense: $1,132,000,000\n",
      "- Net Income: $12,583,000,000\n",
      "- Earnings Per Share (EPS): $4.02\n",
      "- Diluted EPS: $3.62\n",
      "- Weighted Average Shares Outstanding: 3,130,000,000\n",
      "- Diluted Weighted Average Shares Outstanding: 3,475,000,000\n",
      "\n",
      "The gross profit ratio for the year was approximately 25.60%, the EBITDA was $17,833,000,000 with an EBITDA ratio of around 21.89%, and the net income ratio was approximately 15.45%.\n",
      "\n",
      "For more detailed information, you can view the full income statement via the SEC filing [here](https://www.sec.gov/Archives/edgar/data/1318605/000095017023001409/tsla-20221231.htm).\u001b[0m\n",
      "\n",
      "\u001b[1m> Finished chain.\u001b[0m\n"
     ]
    }
   ],
   "source": [
    "# Let's create a chain that can fetch tools\n",
    "# We'll need a prompt, output parser, and model\n",
    "from langchain.tools import format_tool_to_openai_function\n",
    "from langchain.agents import AgentExecutor, initialize_agent, AgentType\n",
    "from langchain.agents.format_scratchpad import format_to_openai_function_messages\n",
    "\n",
    "system_message = \"\"\"You are a helpful assistant that knows how to use tools.\n",
    "When answering a query, you will always first fetch a list of tools using the `fetch_tools` function.\n",
    "\"\"\"\n",
    "\n",
    "prompt = ChatPromptTemplate.from_messages(\n",
    "    [\n",
    "        (\"system\", system_message),\n",
    "        (\"human\", \"{input}\"),\n",
    "    ]\n",
    ")\n",
    "\n",
    "llm = ChatOpenAI(model=\"gpt-3.5-turbo\").bind(functions=[format_tool_to_openai_function(t) for t in fetch_tools])\n",
    "\n",
    "runnable_agent = (\n",
    "    {\n",
    "        \"input\": lambda x: x[\"input\"],\n",
    "    }\n",
    "    | prompt\n",
    "    | llm\n",
    "    | OpenAIFunctionsAgentOutputParser()\n",
    ")\n",
    "\n",
    "input = \"What is the income statement of TSLA?\"\n",
    "result = runnable_agent.invoke({\"input\": input})\n",
    "\n",
    "# Parse the output\n",
    "if result.tool == \"fetch_tools\":\n",
    "    fetched_tools = get_tools(result.tool_input)\n",
    "    print([t.name for t in fetched_tools])\n",
    "else:\n",
    "    raise ValueError(\"Agent chose not to fetch anything.\")\n",
    "\n",
    "# Now we need to create a new chain\n",
    "prompt = ChatPromptTemplate.from_messages(\n",
    "    [\n",
    "        (\"system\", \"You are a helpful assistant\"),\n",
    "        (\"human\", \"{input}\"),\n",
    "        MessagesPlaceholder(variable_name=\"agent_scratchpad\"),\n",
    "    ]\n",
    ")\n",
    "\n",
    "llm = ChatOpenAI(model=\"gpt-4-1106-preview\").bind(functions=[format_tool_to_openai_function(t) for t in fetched_tools])\n",
    "\n",
    "# Let's use ReAct\n",
    "agent_executor = initialize_agent(tools=fetched_tools, llm=llm, agent=AgentType.ZERO_SHOT_REACT_DESCRIPTION, verbose=True, return_intermediate_steps=True)\n",
    "\n",
    "# runnable_agent = (\n",
    "#     {\n",
    "#         \"input\": lambda x: x[\"input\"],\n",
    "#         \"agent_scratchpad\": lambda x: format_to_openai_function_messages(x[\"intermediate_steps\"])\n",
    "#     }\n",
    "#     | prompt\n",
    "#     | llm\n",
    "#     | OpenAIFunctionsAgentOutputParser()\n",
    "# )\n",
    "\n",
    "# agent_executor = AgentExecutor.from_agent_and_tools(tools=fetched_tools, agent=runnable_agent, verbose=True, return_intermediate_steps=True)\n",
    "\n",
    "result = agent_executor.invoke({\"input\": input})\n"
   ]
  },
  {
   "cell_type": "code",
   "execution_count": 9,
   "metadata": {},
   "outputs": [
    {
     "name": "stdout",
     "output_type": "stream",
     "text": [
      "Here's the most recent annual income statement for Tesla, Inc. (TSLA) for the year ending December 31, 2022:\n",
      "\n",
      "- Revenue: $81,462,000,000\n",
      "- Cost of Revenue: $60,609,000,000\n",
      "- Gross Profit: $20,853,000,000\n",
      "- Selling, General and Administrative Expenses: $3,946,000,000\n",
      "- Research and Development Expenses: $3,075,000,000\n",
      "- Operating Expenses: $7,021,000,000\n",
      "- Depreciation and Amortization: $4,177,000,000\n",
      "- Operating Income: $13,656,000,000\n",
      "- Interest Income: $297,000,000\n",
      "- Interest Expense: $191,000,000\n",
      "- Total Other Income/Expenses Net: $63,000,000\n",
      "- Income Before Tax: $13,719,000,000\n",
      "- Income Tax Expense: $1,132,000,000\n",
      "- Net Income: $12,583,000,000\n",
      "- Earnings Per Share (EPS): $4.02\n",
      "- Diluted EPS: $3.62\n",
      "- Weighted Average Shares Outstanding: 3,130,000,000\n",
      "- Diluted Weighted Average Shares Outstanding: 3,475,000,000\n",
      "\n",
      "The gross profit ratio for the year was approximately 25.60%, the EBITDA was $17,833,000,000 with an EBITDA ratio of around 21.89%, and the net income ratio was approximately 15.45%.\n",
      "\n",
      "For more detailed information, you can view the full income statement via the SEC filing [here](https://www.sec.gov/Archives/edgar/data/1318605/000095017023001409/tsla-20221231.htm).\n"
     ]
    }
   ],
   "source": [
    "print(result['output'])"
   ]
  }
 ],
 "metadata": {
  "kernelspec": {
   "display_name": "ds",
   "language": "python",
   "name": "python3"
  },
  "language_info": {
   "codemirror_mode": {
    "name": "ipython",
    "version": 3
   },
   "file_extension": ".py",
   "mimetype": "text/x-python",
   "name": "python",
   "nbconvert_exporter": "python",
   "pygments_lexer": "ipython3",
   "version": "3.10.12"
  }
 },
 "nbformat": 4,
 "nbformat_minor": 2
}
