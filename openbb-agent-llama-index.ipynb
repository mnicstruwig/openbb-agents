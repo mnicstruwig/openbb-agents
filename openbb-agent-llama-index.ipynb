{
 "cells": [
  {
   "cell_type": "markdown",
   "id": "f15e9492-7fe6-4ef9-8c29-21d13eb9a778",
   "metadata": {},
   "source": [
    "# "
   ]
  },
  {
   "cell_type": "code",
   "execution_count": 1,
   "id": "e1574fb0-e26e-4d20-aea8-376ea71029b2",
   "metadata": {},
   "outputs": [],
   "source": [
    "# Why prefer LLamaIndex? It's got nicer high-level objects to map from functions -> agents\n"
   ]
  },
  {
   "cell_type": "code",
   "execution_count": 16,
   "id": "0a908512-23a8-4f04-8bd0-8251e7bc3630",
   "metadata": {},
   "outputs": [],
   "source": [
    "# Let's start small\n",
    "\n",
    "from pydantic.v1 import BaseModel, create_model\n",
    "from typing import List\n",
    "import inspect\n",
    "\n",
    "from llama_index.program import OpenAIPydanticProgram\n",
    "from llama_index.tools.function_tool import FunctionTool"
   ]
  },
  {
   "cell_type": "code",
   "execution_count": 17,
   "id": "9289433d-fd51-4b97-962e-0b210935fa0f",
   "metadata": {},
   "outputs": [],
   "source": [
    "from openbb import obb\n",
    "from openbb_core.app.model.custom_parameter import OpenBBCustomParameter"
   ]
  },
  {
   "cell_type": "code",
   "execution_count": 18,
   "id": "7d5b8123-fd91-440f-bce7-447136fd8653",
   "metadata": {},
   "outputs": [],
   "source": [
    "from typing import Annotated, get_type_hints, _AnnotatedAlias\n",
    "from pydantic.v1.fields import FieldInfo\n",
    "\n",
    "def add(x: Annotated[int, \"the first number\"], y: Annotated[int, \"the second number\"]) -> int:\n",
    "    \"Add two numbers togther.\"\n",
    "    print(\"Hoooory shiiit\")\n",
    "    return x + y"
   ]
  },
  {
   "cell_type": "code",
   "execution_count": 19,
   "id": "dc80bd24-bf00-4ba6-a63d-8cfb5e68b7e5",
   "metadata": {},
   "outputs": [],
   "source": [
    "def get_param_info(param):\n",
    "    param_annotation_description = None\n",
    "    param_default_value = None\n",
    "    \n",
    "    if isinstance(param.annotation, _AnnotatedAlias):\n",
    "        param_type = param.annotation.__args__[0] \n",
    "        param_annotation_description = param.annotation.__metadata__[0]\n",
    "        if isinstance(param_annotation_description, OpenBBCustomParameter):\n",
    "            param_annotation_description = param_annotation_description.description\n",
    "    else: \n",
    "        param_type = param.annotation\n",
    "    if param.default != inspect.Parameter.empty:\n",
    "        param_default_value = param.default\n",
    "    else:\n",
    "        param_default_value = ...\n",
    "        \n",
    "    return {\n",
    "        \"type\": param_type,\n",
    "        \"description\": param_annotation_description,\n",
    "        \"default\": param_default_value\n",
    "    }"
   ]
  },
  {
   "cell_type": "code",
   "execution_count": 20,
   "id": "1b9100aa-598b-4f2d-83c1-dcf63faaf9b5",
   "metadata": {},
   "outputs": [],
   "source": [
    "def process_params(func):\n",
    "    parameters = inspect.signature(func).parameters\n",
    "    all_param_info = {}\n",
    "    for name, param in parameters.items():\n",
    "        if name != \"kwargs\":  # TODO: Figure out how to handle **kwargs\n",
    "            all_param_info[name] = get_param_info(param)\n",
    "    return all_param_info\n",
    "\n",
    "def map_params_to_pydantic_fields(params_info: dict):\n",
    "    fields = {}\n",
    "    for param_name, param_info in params_info.items():\n",
    "        fields[param_name] = (\n",
    "            param_info['type'],\n",
    "            FieldInfo(\n",
    "                description=param_info['description'],\n",
    "                default=param_info['default']\n",
    "            )\n",
    "        )\n",
    "    return fields\n",
    "\n",
    "def make_pydantic_v1_model_from_func(func):\n",
    "    param_info = process_params(func)\n",
    "    fields = map_params_to_pydantic_fields(param_info)\n",
    "    return create_model(func.__name__ + \"Model\", **fields)"
   ]
  },
  {
   "cell_type": "code",
   "execution_count": 21,
   "id": "afe7754f-9bdb-4583-9930-8d60329ba36a",
   "metadata": {},
   "outputs": [
    {
     "data": {
      "text/plain": [
       "{'title': 'cashModel',\n",
       " 'type': 'object',\n",
       " 'properties': {'symbol': {'title': 'Symbol',\n",
       "   'description': 'Symbol to get data for.',\n",
       "   'anyOf': [{'type': 'string'},\n",
       "    {'type': 'array', 'items': {'type': 'string'}}]},\n",
       "  'period': {'title': 'Period',\n",
       "   'description': 'Time period of the data to return.',\n",
       "   'default': 'annual',\n",
       "   'enum': ['annual', 'quarter'],\n",
       "   'type': 'string'},\n",
       "  'limit': {'title': 'Limit',\n",
       "   'description': 'The number of data entries to return.',\n",
       "   'default': 5,\n",
       "   'type': 'integer'},\n",
       "  'provider': {'title': 'Provider',\n",
       "   'enum': ['fmp', 'intrinio', 'polygon'],\n",
       "   'type': 'string'}},\n",
       " 'required': ['symbol']}"
      ]
     },
     "execution_count": 21,
     "metadata": {},
     "output_type": "execute_result"
    }
   ],
   "source": [
    "m = make_pydantic_v1_model_from_func(obb.equity.fundamental.cash)\n",
    "m.schema()"
   ]
  },
  {
   "cell_type": "code",
   "execution_count": 22,
   "id": "344c8bde-201d-4809-af7e-d2356f241794",
   "metadata": {},
   "outputs": [],
   "source": [
    "from llama_index.tools.function_tool import FunctionTool\n",
    "from llama_index.agent import OpenAIAgent\n",
    "from llama_index.llms import OpenAI"
   ]
  },
  {
   "cell_type": "code",
   "execution_count": 25,
   "id": "ba2c9f93-fed1-4462-954a-b2d457858959",
   "metadata": {},
   "outputs": [],
   "source": [
    "from openbb_core.app.router import CommandMap"
   ]
  },
  {
   "cell_type": "code",
   "execution_count": 26,
   "id": "9c0b8004-34b4-497e-aa58-5c9b43b6d482",
   "metadata": {},
   "outputs": [],
   "source": [
    "cm = CommandMap()"
   ]
  },
  {
   "cell_type": "code",
   "execution_count": 82,
   "id": "8fc2f698-588f-465d-b347-b96f792c10b3",
   "metadata": {},
   "outputs": [],
   "source": [
    "members = inspect.getmembers(obb.equity.fundamental)\n",
    "members_select = [m for m in members if inspect.ismethod(m[1]) and '__' not in m[0] and '_run' not in m[0]]\n",
    "callables = [m[1] for m in members_select]"
   ]
  },
  {
   "cell_type": "code",
   "execution_count": null,
   "id": "9dc210ca-2d5a-4b12-a50d-3399f4de5b07",
   "metadata": {},
   "outputs": [],
   "source": []
  },
  {
   "cell_type": "code",
   "execution_count": 90,
   "id": "ca56d823-f68f-455d-9c77-57138759b916",
   "metadata": {},
   "outputs": [
    {
     "ename": "AttributeError",
     "evalue": "'function' object has no attribute '__file__'",
     "output_type": "error",
     "traceback": [
      "\u001b[0;31m---------------------------------------------------------------------------\u001b[0m",
      "\u001b[0;31mAttributeError\u001b[0m                            Traceback (most recent call last)",
      "Cell \u001b[0;32mIn[90], line 2\u001b[0m\n\u001b[1;32m      1\u001b[0m f \u001b[38;5;241m=\u001b[39m callables[\u001b[38;5;241m0\u001b[39m]\n\u001b[0;32m----> 2\u001b[0m \u001b[43mf\u001b[49m\u001b[38;5;241;43m.\u001b[39;49m\u001b[38;5;18;43m__file__\u001b[39;49m\n",
      "\u001b[0;31mAttributeError\u001b[0m: 'function' object has no attribute '__file__'"
     ]
    }
   ],
   "source": [
    "f = callables[0]"
   ]
  },
  {
   "cell_type": "code",
   "execution_count": 37,
   "id": "03513a3d-7640-488d-9637-f812a8b17ce2",
   "metadata": {},
   "outputs": [],
   "source": [
    "# Let's do tool retrieval\n",
    "\n",
    "fundamentals = callables"
   ]
  },
  {
   "cell_type": "code",
   "execution_count": 102,
   "id": "1d946d26-edf5-4158-99f7-64a32ab1b53e",
   "metadata": {},
   "outputs": [],
   "source": [
    "# Create a map to find providerinterfaces\n",
    "cm = CommandMap()\n",
    "pi = ProviderInterface()\n",
    "lookup = {}\n",
    "for f in callables:\n",
    "    # TODO: Don't template in the router path\n",
    "    lookup[f.__name__] = cm.commands_model[f\"/equity/fundamental/{f.__name__}\"]\n",
    "\n",
    "# Then we get the provider interface +  keys from the lookup\n",
    "provider_lookup = {}\n",
    "for name, provider in lookup.items():\n",
    "    provider_lookup[name] = pi.map[provider]"
   ]
  },
  {
   "cell_type": "code",
   "execution_count": 80,
   "id": "90c7f279-5ea8-4fcd-a569-3361e92fec44",
   "metadata": {},
   "outputs": [
    {
     "data": {
      "text/plain": [
       "dict_keys(['symbol', 'date', 'period', 'current_ratio', 'quick_ratio', 'cash_ratio', 'days_of_sales_outstanding', 'days_of_inventory_outstanding', 'operating_cycle', 'days_of_payables_outstanding', 'cash_conversion_cycle', 'gross_profit_margin', 'operating_profit_margin', 'pretax_profit_margin', 'net_profit_margin', 'effective_tax_rate', 'return_on_assets', 'return_on_equity', 'return_on_capital_employed', 'net_income_per_ebt', 'ebt_per_ebit', 'ebit_per_revenue', 'debt_ratio', 'debt_equity_ratio', 'long_term_debt_to_capitalization', 'total_debt_to_capitalization', 'interest_coverage', 'cash_flow_to_debt_ratio', 'company_equity_multiplier', 'receivables_turnover', 'payables_turnover', 'inventory_turnover', 'fixed_asset_turnover', 'asset_turnover', 'operating_cash_flow_per_share', 'free_cash_flow_per_share', 'cash_per_share', 'payout_ratio', 'operating_cash_flow_sales_ratio', 'free_cash_flow_operating_cash_flow_ratio', 'cash_flow_coverage_ratios', 'short_term_coverage_ratios', 'capital_expenditure_coverage_ratio', 'dividend_paid_and_capex_coverage_ratio', 'dividend_payout_ratio', 'price_book_value_ratio', 'price_to_book_ratio', 'price_to_sales_ratio', 'price_earnings_ratio', 'price_to_free_cash_flows_ratio', 'price_to_operating_cash_flows_ratio', 'price_cash_flow_ratio', 'price_earnings_to_growth_ratio', 'price_sales_ratio', 'dividend_yield', 'enterprise_value_multiple', 'price_fair_value'])"
      ]
     },
     "execution_count": 80,
     "metadata": {},
     "output_type": "execute_result"
    }
   ],
   "source": [
    "from openbb_core.app.provider_interface import ProviderInterface\n",
    "\n",
    "cm = CommandMap()\n",
    "pi = ProviderInterface()\n",
    "cm.commands_model\n",
    "pi.map['FinancialRatios']['openbb']['Data']['fields'].keys()\n"
   ]
  },
  {
   "cell_type": "code",
   "execution_count": 111,
   "id": "72da7df1-6c92-4458-b86b-6a9d8a586d39",
   "metadata": {},
   "outputs": [
    {
     "name": "stdout",
     "output_type": "stream",
     "text": [
      "symbol\n",
      " - date\n",
      " - cik\n",
      " - currency\n",
      " - filling_date\n",
      " - accepted_date\n",
      " - period\n",
      " - cash_and_cash_equivalents\n",
      " - short_term_investments\n",
      " - long_term_investments\n",
      " - inventory\n",
      " - net_receivables\n",
      " - marketable_securities\n",
      " - property_plant_equipment_net\n",
      " - goodwill\n",
      " - assets\n",
      " - current_assets\n",
      " - other_current_assets\n",
      " - intangible_assets\n",
      " - tax_assets\n",
      " - non_current_assets\n",
      " - other_non_current_assets\n",
      " - account_payables\n",
      " - tax_payables\n",
      " - deferred_revenue\n",
      " - other_assets\n",
      " - total_assets\n",
      " - long_term_debt\n",
      " - short_term_debt\n",
      " - liabilities\n",
      " - other_current_liabilities\n",
      " - current_liabilities\n",
      " - total_liabilities_and_total_equity\n",
      " - other_non_current_liabilities\n",
      " - non_current_liabilities\n",
      " - total_liabilities_and_stockholders_equity\n",
      " - other_stockholder_equity\n",
      " - total_stockholders_equity\n",
      " - other_liabilities\n",
      " - total_liabilities\n",
      " - common_stock\n",
      " - preferred_stock\n",
      " - accumulated_other_comprehensive_income_loss\n",
      " - retained_earnings\n",
      " - minority_interest\n",
      " - total_equity\n"
     ]
    }
   ],
   "source": [
    "x = '\\n - '.join(provider_lookup['balance']['openbb']['Data']['fields'].keys())\n",
    "print(x)"
   ]
  },
  {
   "cell_type": "code",
   "execution_count": 184,
   "id": "09346f12-380c-4222-b2b2-d383d9bd2193",
   "metadata": {},
   "outputs": [],
   "source": [
    "# Now we need to define the tools\n",
    "\n",
    "# Let's create a wrapper (aka decorator, but we won't use the sugar) to always return the `results` from an `OBBject`\n",
    "def return_results(func):\n",
    "    def wrapped_func(*args, **kwargs):\n",
    "        return func(*args, **kwargs).to_df().to_json(orient=\"records\")\n",
    "    return wrapped_func\n",
    "\n",
    "# Let's get the actual \n",
    "def make_function_tool(func):\n",
    "    wrapped_func = return_results(func)\n",
    "    fn_schema = make_pydantic_v1_model_from_func(func)\n",
    "    first_line_docstring = func.__doc__.split('\\n')[0]\n",
    "\n",
    "    output_fields = provider_lookup[func.__name__]['openbb']['Data']['fields'].keys()\n",
    "    output_fields_str = ','.join(output_fields) \n",
    "\n",
    "    description = f\"{first_line_docstring}\\n\\n\"\n",
    "    description += \"The following fields are returned in the output:\\n\"\n",
    "    description += f\"- {output_fields_str}\"\n",
    "    \n",
    "    function_tool = FunctionTool.from_defaults(\n",
    "        name=func.__name__,\n",
    "        fn=wrapped_func,\n",
    "        fn_schema=fn_schema,\n",
    "        description=description,\n",
    "    )\n",
    "    return function_tool"
   ]
  },
  {
   "cell_type": "code",
   "execution_count": 185,
   "id": "855fc0b2-ccef-4757-9c28-ba29e4310d31",
   "metadata": {},
   "outputs": [
    {
     "data": {
      "text/plain": [
       "'Balance Sheet. Balance sheet statement.\\n\\nThe following fields are returned in the output:\\n- symbol,date,cik,currency,filling_date,accepted_date,period,cash_and_cash_equivalents,short_term_investments,long_term_investments,inventory,net_receivables,marketable_securities,property_plant_equipment_net,goodwill,assets,current_assets,other_current_assets,intangible_assets,tax_assets,non_current_assets,other_non_current_assets,account_payables,tax_payables,deferred_revenue,other_assets,total_assets,long_term_debt,short_term_debt,liabilities,other_current_liabilities,current_liabilities,total_liabilities_and_total_equity,other_non_current_liabilities,non_current_liabilities,total_liabilities_and_stockholders_equity,other_stockholder_equity,total_stockholders_equity,other_liabilities,total_liabilities,common_stock,preferred_stock,accumulated_other_comprehensive_income_loss,retained_earnings,minority_interest,total_equity'"
      ]
     },
     "execution_count": 185,
     "metadata": {},
     "output_type": "execute_result"
    }
   ],
   "source": [
    "all_tools = [make_function_tool(func) for func in fundamentals] \n",
    "all_tools_map = {t.metadata.name: t for t in all_tools}\n",
    "\n",
    "all_tools[0].metadata.description"
   ]
  },
  {
   "cell_type": "code",
   "execution_count": 198,
   "id": "50f9d5af-dd35-45fe-aa5f-fd9b6bec4af3",
   "metadata": {},
   "outputs": [],
   "source": [
    "# Let's build an object index\n",
    "from llama_index import VectorStoreIndex\n",
    "from llama_index.objects import ObjectIndex, SimpleToolNodeMapping\n",
    "from llama_index.tools import QueryEngineTool\n",
    "from llama_index.query_engine import SubQuestionQueryEngine\n",
    "from llama_index.query_engine.router_query_engine import RouterQueryEngine\n",
    "\n",
    "tool_mapping = SimpleToolNodeMapping.from_objects(all_tools)\n",
    "obj_index = ObjectIndex.from_objects(\n",
    "    all_tools,\n",
    "    tool_mapping,\n",
    "    VectorStoreIndex\n",
    ")"
   ]
  },
  {
   "cell_type": "code",
   "execution_count": 189,
   "id": "73699a7d-1f3d-49e5-93a3-9c6bb0187c56",
   "metadata": {},
   "outputs": [],
   "source": [
    "from llama_index.agent import FnRetrieverOpenAIAgent, OpenAIAgent, ReActAgent\n",
    "from llama_index.llms import OpenAI\n",
    "from llama_index import ServiceContext\n",
    "\n",
    "service_context = ServiceContext.from_defaults(\n",
    "    llm=OpenAI(\"gpt-4-1106-preview\"),\n",
    ")"
   ]
  },
  {
   "cell_type": "code",
   "execution_count": 208,
   "id": "c4f23ba3-4c1e-4718-bb0b-84b699d52741",
   "metadata": {},
   "outputs": [],
   "source": [
    "object_retriever = obj_index.as_retriever(similarity_top_k=3)"
   ]
  },
  {
   "cell_type": "code",
   "execution_count": 210,
   "id": "acb0b370-0f84-4557-b895-bb8610a5c89a",
   "metadata": {},
   "outputs": [],
   "source": [
    "agent = ReActAgent.from_tools(\n",
    "    tool_retriever=obj_index.as_retriever(similarity_top_k=3),\n",
    "    verbose=True\n",
    ")"
   ]
  },
  {
   "cell_type": "code",
   "execution_count": 211,
   "id": "b0a3913d-4ed5-4854-8bf4-2bf05d74457b",
   "metadata": {},
   "outputs": [
    {
     "name": "stdout",
     "output_type": "stream",
     "text": [
      "\u001b[1;3;38;5;200mThought: I can use the multiples tool to get the revenue data for TSLA.\n",
      "Action: multiples\n",
      "Action Input: {'symbol': 'TSLA'}\n",
      "\u001b[0m\u001b[1;3;34mObservation: [{\"revenue_per_share_ttm\":30.2027707809,\"net_income_per_share_ttm\":3.3866498741,\"operating_cash_flow_per_share_ttm\":3.8299748111,\"free_cash_flow_per_share_ttm\":1.1690806045,\"cash_per_share_ttm\":8.2106423174,\"book_value_per_share_ttm\":16.8343828715,\"tangible_book_value_per_share_ttm\":16.8828715365,\"shareholders_equity_per_share_ttm\":16.8343828715,\"interest_debt_per_share_ttm\":1.423488665,\"market_cap_ttm\":742563907850.0,\"enterprise_value_ttm\":731024907850.0,\"pe_ratio_ttm\":68.9737671997,\"price_to_sales_ratio_ttm\":7.7411691323,\"pocf_ratio_ttm\":60.9899572509,\"pfcf_ratio_ttm\":199.9902795179,\"pb_ratio_ttm\":13.8757685258,\"ptb_ratio_ttm\":13.8757685258,\"ev_to_sales_ttm\":7.6208759836,\"enterprise_value_over_ebitda_ttm\":44.7082690875,\"ev_to_operating_cash_flow_ttm\":60.0974110367,\"ev_to_free_cash_flow_ttm\":196.8825499192,\"earnings_yield_ttm\":0.0144982657,\"free_cash_flow_yield_ttm\":0.005000243,\"debt_to_equity_ttm\":0.0821643661,\"debt_to_assets_ttm\":0.046763394,\"net_debt_to_ebitda_ttm\":-0.705706073,\"current_ratio_ttm\":1.6901651652,\"interest_coverage_ttm\":83.8125,\"income_quality_ttm\":1.132799404,\"dividend_yield_ttm\":0.0,\"dividend_yield_percentage_ttm\":0.0,\"dividend_to_market_cap_ttm\":0.0059159891,\"dividend_per_share_ttm\":0.0,\"payout_ratio_ttm\":0.0,\"sales_general_and_administrative_to_revenue_ttm\":0.0,\"research_and_development_to_revenue_ttm\":0.0384158292,\"intangibles_to_total_assets_ttm\":0.0066531121,\"capex_to_operating_cash_flow_ttm\":-0.6947550148,\"capex_to_revenue_ttm\":-0.0881009966,\"capex_to_depreciation_ttm\":-1.9102622061,\"stock_based_compensation_to_revenue_ttm\":0.0182123348,\"graham_number_ttm\":35.8158291013,\"roic_ttm\":0.1570614137,\"return_on_tangible_assets_ttm\":0.1152642634,\"graham_net_net_ttm\":-1.4541876574,\"working_capital_ttm\":18386000000.0,\"tangible_asset_value_ttm\":53870000000.0,\"net_current_asset_value_ttm\":5580000000.0,\"invested_capital_ttm\":0.0821643661,\"average_receivables_ttm\":2983500000.0,\"average_payables_ttm\":14605000000.0,\"average_inventory_ttm\":14038500000.0,\"days_sales_outstanding_ttm\":9.5888411659,\"days_payables_outstanding_ttm\":66.1294117647,\"days_of_inventory_on_hand_ttm\":65.1045173871,\"receivables_turnover_ttm\":38.0650793651,\"payables_turnover_ttm\":5.5194805195,\"inventory_turnover_ttm\":5.6063697981,\"roe_ttm\":0.2180041955,\"capex_per_share_ttm\":-2.6608942065}]\n",
      "\u001b[0m\u001b[1;3;38;5;200mThought: I have obtained the revenue data for TSLA using the multiples tool.\n",
      "Response: The current revenue of TSLA is not provided in the data returned by the multiples tool.\n",
      "\u001b[0mThe current revenue of TSLA is not provided in the data returned by the multiples tool.\n"
     ]
    }
   ],
   "source": [
    "response = agent.chat(\"What is the current revenue of TSLA? Use multiple tools if you don't find the necessary data.\")\n",
    "print(response)"
   ]
  },
  {
   "cell_type": "code",
   "execution_count": null,
   "id": "924f7390-964a-43e1-bdb2-9e49e16ad5e9",
   "metadata": {},
   "outputs": [],
   "source": [
    "tool_mapping = SimpleTool"
   ]
  },
  {
   "cell_type": "code",
   "execution_count": 477,
   "id": "0300ed87-bfbe-449e-9579-d25cf8cb9e42",
   "metadata": {},
   "outputs": [],
   "source": [
    "fn = obb.equity.fundamental.balance\n",
    "\n",
    "def meta_fn(func):\n",
    "    def wrapped_func(*args, **kwargs):\n",
    "        return func(*args, **kwargs).results\n",
    "    return wrapped_func\n",
    "\n",
    "do_this = meta_fn(fn)\n",
    "\n",
    "function_tool = FunctionTool.from_defaults(\n",
    "    fn=do_this,\n",
    "    fn_schema=make_pydantic_v1_model_from_func(fn),\n",
    "    description=\"Balance sheet statement.\"\n",
    ")"
   ]
  },
  {
   "cell_type": "code",
   "execution_count": 480,
   "id": "808681eb-14b7-4c43-b075-31e2f53c7c19",
   "metadata": {},
   "outputs": [],
   "source": [
    "x = fn(\"TSLA\")"
   ]
  },
  {
   "cell_type": "code",
   "execution_count": 481,
   "id": "3af6cc00-998c-458d-a889-a0079b1e0257",
   "metadata": {},
   "outputs": [],
   "source": [
    "tools = [function_tool]"
   ]
  },
  {
   "cell_type": "code",
   "execution_count": 482,
   "id": "d68dcc19-435e-4e9f-8e1c-d171a8a640b4",
   "metadata": {},
   "outputs": [],
   "source": [
    "llm = OpenAI(\"gpt-4-1106-preview\")"
   ]
  },
  {
   "cell_type": "code",
   "execution_count": 483,
   "id": "5ebf0427-2626-4c82-9573-20d556d514df",
   "metadata": {},
   "outputs": [],
   "source": [
    "agent = OpenAIAgent.from_tools(tools, verbose=True, llm=OpenAI(\"gpt-4-1106-preview\"))"
   ]
  },
  {
   "cell_type": "code",
   "execution_count": 486,
   "id": "cb067511-1c31-4c1c-ac06-fbdb26198ebb",
   "metadata": {},
   "outputs": [
    {
     "name": "stdout",
     "output_type": "stream",
     "text": [
      "STARTING TURN 1\n",
      "---------------\n",
      "\n",
      "=== Calling Function ===\n",
      "Calling function: wrapped_func with args: {\"symbol\":\"TSLA\",\"period\":\"annual\",\"limit\":1}\n",
      "Got output: [FMPBalanceSheetData(symbol=TSLA, date=2022-12-31, cik=0001318605, currency=USD, filling_date=None, accepted_date=2023-01-30 21:29:15, period=FY, cash_and_cash_equivalents=16253000000.0, short_term_investments=5932000000.0, long_term_investments=0.0, inventory=12839000000.0, net_receivables=2952000000.0, marketable_securities=None, property_plant_equipment_net=36635000000.0, goodwill=194000000.0, assets=82338000000.0, current_assets=40917000000.0, other_current_assets=2941000000.0, intangible_assets=593000000.0, tax_assets=0.0, non_current_assets=41421000000.0, other_non_current_assets=4193000000.0, account_payables=15255000000.0, tax_payables=1235000000.0, deferred_revenue=2810000000.0, other_assets=0.0, total_assets=None, long_term_debt=1597000000.0, short_term_debt=1502000000.0, liabilities=36440000000.0, other_current_liabilities=7142000000.0, current_liabilities=26709000000.0, total_liabilities_and_total_equity=82338000000.0, other_non_current_liabilities=5248000000.0, non_current_liabilities=9731000000.0, total_liabilities_and_stockholders_equity=82338000000.0, other_stockholder_equity=32177000000.0, total_stockholders_equity=44704000000.0, other_liabilities=0.0, total_liabilities=None, common_stock=3000000.0, preferred_stock=0.0, accumulated_other_comprehensive_income_loss=-361000000.0, retained_earnings=12885000000.0, minority_interest=1194000000.0, total_equity=45898000000.0, calendar_year=2022, cash_and_short_term_investments=22185000000, goodwill_and_intangible_assets=593000000, deferred_revenue_non_current=2804000000, total_investments=5932000000, capital_lease_obligations=3703000000, deferred_tax_liabilities_non_current=82000000, total_debt=3099000000, net_debt=-13154000000, link=https://www.sec.gov/Archives/edgar/data/1318605/000095017023001409/0000950170-23-001409-index.htm, final_link=https://www.sec.gov/Archives/edgar/data/1318605/000095017023001409/tsla-20221231.htm, filing_date=2023-01-31)]\n",
      "========================\n",
      "\n",
      "STARTING TURN 2\n",
      "---------------\n",
      "\n",
      "In 2022, Tesla, Inc. (TSLA) had a total debt of approximately $3.099 billion, which is comprised of:\n",
      "\n",
      "- **Long-Term Debt**: $1.597 billion\n",
      "- **Short-Term Debt**: $1.502 billion\n",
      "\n",
      "This total debt figure represents the sum of both long-term and short-term financial obligations that the company had on its balance sheet for the fiscal year ending December 31, 2022.\n"
     ]
    }
   ],
   "source": [
    "response = agent.chat(\"How much debt did TSLA have in 2022? Use function calling.\")\n",
    "print(response)"
   ]
  },
  {
   "cell_type": "code",
   "execution_count": 487,
   "id": "010eb9ed-33d1-4340-b47f-f59cb7ae3638",
   "metadata": {},
   "outputs": [
    {
     "data": {
      "text/plain": [
       "\u001b[0;31mSignature:\u001b[0m\n",
       "\u001b[0mobb\u001b[0m\u001b[0;34m.\u001b[0m\u001b[0mequity\u001b[0m\u001b[0;34m.\u001b[0m\u001b[0mprice\u001b[0m\u001b[0;34m.\u001b[0m\u001b[0mhistorical\u001b[0m\u001b[0;34m(\u001b[0m\u001b[0;34m\u001b[0m\n",
       "\u001b[0;34m\u001b[0m    \u001b[0msymbol\u001b[0m\u001b[0;34m:\u001b[0m \u001b[0mAnnotated\u001b[0m\u001b[0;34m[\u001b[0m\u001b[0mUnion\u001b[0m\u001b[0;34m[\u001b[0m\u001b[0mstr\u001b[0m\u001b[0;34m,\u001b[0m \u001b[0mList\u001b[0m\u001b[0;34m[\u001b[0m\u001b[0mstr\u001b[0m\u001b[0;34m]\u001b[0m\u001b[0;34m]\u001b[0m\u001b[0;34m,\u001b[0m \u001b[0mOpenBBCustomParameter\u001b[0m\u001b[0;34m(\u001b[0m\u001b[0mdescription\u001b[0m\u001b[0;34m=\u001b[0m\u001b[0;34m'Symbol to get data for.'\u001b[0m\u001b[0;34m)\u001b[0m\u001b[0;34m]\u001b[0m\u001b[0;34m,\u001b[0m\u001b[0;34m\u001b[0m\n",
       "\u001b[0;34m\u001b[0m    \u001b[0minterval\u001b[0m\u001b[0;34m:\u001b[0m \u001b[0mAnnotated\u001b[0m\u001b[0;34m[\u001b[0m\u001b[0mOptional\u001b[0m\u001b[0;34m[\u001b[0m\u001b[0mstr\u001b[0m\u001b[0;34m]\u001b[0m\u001b[0;34m,\u001b[0m \u001b[0mOpenBBCustomParameter\u001b[0m\u001b[0;34m(\u001b[0m\u001b[0mdescription\u001b[0m\u001b[0;34m=\u001b[0m\u001b[0;34m'Time interval of the data to return.'\u001b[0m\u001b[0;34m)\u001b[0m\u001b[0;34m]\u001b[0m \u001b[0;34m=\u001b[0m \u001b[0;34m'1d'\u001b[0m\u001b[0;34m,\u001b[0m\u001b[0;34m\u001b[0m\n",
       "\u001b[0;34m\u001b[0m    \u001b[0mstart_date\u001b[0m\u001b[0;34m:\u001b[0m \u001b[0mAnnotated\u001b[0m\u001b[0;34m[\u001b[0m\u001b[0mUnion\u001b[0m\u001b[0;34m[\u001b[0m\u001b[0mdatetime\u001b[0m\u001b[0;34m.\u001b[0m\u001b[0mdate\u001b[0m\u001b[0;34m,\u001b[0m \u001b[0mNoneType\u001b[0m\u001b[0;34m,\u001b[0m \u001b[0mstr\u001b[0m\u001b[0;34m]\u001b[0m\u001b[0;34m,\u001b[0m \u001b[0mOpenBBCustomParameter\u001b[0m\u001b[0;34m(\u001b[0m\u001b[0mdescription\u001b[0m\u001b[0;34m=\u001b[0m\u001b[0;34m'Start date of the data, in YYYY-MM-DD format.'\u001b[0m\u001b[0;34m)\u001b[0m\u001b[0;34m]\u001b[0m \u001b[0;34m=\u001b[0m \u001b[0;32mNone\u001b[0m\u001b[0;34m,\u001b[0m\u001b[0;34m\u001b[0m\n",
       "\u001b[0;34m\u001b[0m    \u001b[0mend_date\u001b[0m\u001b[0;34m:\u001b[0m \u001b[0mAnnotated\u001b[0m\u001b[0;34m[\u001b[0m\u001b[0mUnion\u001b[0m\u001b[0;34m[\u001b[0m\u001b[0mdatetime\u001b[0m\u001b[0;34m.\u001b[0m\u001b[0mdate\u001b[0m\u001b[0;34m,\u001b[0m \u001b[0mNoneType\u001b[0m\u001b[0;34m,\u001b[0m \u001b[0mstr\u001b[0m\u001b[0;34m]\u001b[0m\u001b[0;34m,\u001b[0m \u001b[0mOpenBBCustomParameter\u001b[0m\u001b[0;34m(\u001b[0m\u001b[0mdescription\u001b[0m\u001b[0;34m=\u001b[0m\u001b[0;34m'End date of the data, in YYYY-MM-DD format.'\u001b[0m\u001b[0;34m)\u001b[0m\u001b[0;34m]\u001b[0m \u001b[0;34m=\u001b[0m \u001b[0;32mNone\u001b[0m\u001b[0;34m,\u001b[0m\u001b[0;34m\u001b[0m\n",
       "\u001b[0;34m\u001b[0m    \u001b[0mprovider\u001b[0m\u001b[0;34m:\u001b[0m \u001b[0mOptional\u001b[0m\u001b[0;34m[\u001b[0m\u001b[0mLiteral\u001b[0m\u001b[0;34m[\u001b[0m\u001b[0;34m'fmp'\u001b[0m\u001b[0;34m,\u001b[0m \u001b[0;34m'intrinio'\u001b[0m\u001b[0;34m,\u001b[0m \u001b[0;34m'polygon'\u001b[0m\u001b[0;34m]\u001b[0m\u001b[0;34m]\u001b[0m \u001b[0;34m=\u001b[0m \u001b[0;32mNone\u001b[0m\u001b[0;34m,\u001b[0m\u001b[0;34m\u001b[0m\n",
       "\u001b[0;34m\u001b[0m    \u001b[0;34m**\u001b[0m\u001b[0mkwargs\u001b[0m\u001b[0;34m,\u001b[0m\u001b[0;34m\u001b[0m\n",
       "\u001b[0;34m\u001b[0m\u001b[0;34m)\u001b[0m \u001b[0;34m->\u001b[0m \u001b[0mopenbb_core\u001b[0m\u001b[0;34m.\u001b[0m\u001b[0mapp\u001b[0m\u001b[0;34m.\u001b[0m\u001b[0mmodel\u001b[0m\u001b[0;34m.\u001b[0m\u001b[0mobbject\u001b[0m\u001b[0;34m.\u001b[0m\u001b[0mOBBject\u001b[0m\u001b[0;34m[\u001b[0m\u001b[0mList\u001b[0m\u001b[0;34m[\u001b[0m\u001b[0mData\u001b[0m\u001b[0;34m]\u001b[0m\u001b[0;34m]\u001b[0m\u001b[0;34m\u001b[0m\u001b[0;34m\u001b[0m\u001b[0m\n",
       "\u001b[0;31mDocstring:\u001b[0m\n",
       "Equity Historical price. Load stock data for a specific ticker.\n",
       "\n",
       "Parameters\n",
       "----------\n",
       "symbol : str\n",
       "    Symbol to get data for.\n",
       "interval : Optional[str]\n",
       "    Time interval of the data to return.\n",
       "start_date : Optional[datetime.date]\n",
       "    Start date of the data, in YYYY-MM-DD format.\n",
       "end_date : Optional[datetime.date]\n",
       "    End date of the data, in YYYY-MM-DD format.\n",
       "provider : Optional[Literal['fmp', 'intrinio', 'polygon']]\n",
       "    The provider to use for the query, by default None.\n",
       "    If None, the provider specified in defaults is selected or 'fmp' if there is\n",
       "    no default.\n",
       "limit : Optional[Union[Annotated[int, Ge(ge=0)], int]]\n",
       "    Number of days to look back (Only for interval 1d). (provider: fmp); The number of data entries to return. (provider: polygon)\n",
       "start_time : Optional[datetime.time]\n",
       "    Return intervals starting at the specified time on the `start_date` formatted as 'HH:MM:SS'. (provider: intrinio)\n",
       "end_time : Optional[datetime.time]\n",
       "    Return intervals stopping at the specified time on the `end_date` formatted as 'HH:MM:SS'. (provider: intrinio)\n",
       "timezone : str\n",
       "    Timezone of the data, in the IANA format (Continent/City). (provider: intrinio)\n",
       "source : Optional[Literal['realtime', 'delayed', 'nasdaq_basic']]\n",
       "    The source of the data. (provider: intrinio)\n",
       "sort : Literal['asc', 'desc']\n",
       "    Sort order of the data. (provider: polygon)\n",
       "adjusted : bool\n",
       "    Output time series is adjusted by historical split and dividend events. (provider: polygon)\n",
       "\n",
       "Returns\n",
       "-------\n",
       "OBBject\n",
       "    results : List[EquityHistorical]\n",
       "        Serializable results.\n",
       "    provider : Optional[Literal['fmp', 'intrinio', 'polygon']]\n",
       "        Provider name.\n",
       "    warnings : Optional[List[Warning_]]\n",
       "        List of warnings.\n",
       "    chart : Optional[Chart]\n",
       "        Chart object.\n",
       "    extra: Dict[str, Any]\n",
       "        Extra info.\n",
       "\n",
       "EquityHistorical\n",
       "----------------\n",
       "date : datetime\n",
       "    The date of the data.\n",
       "open : float\n",
       "    The open price.\n",
       "high : float\n",
       "    The high price.\n",
       "low : float\n",
       "    The low price.\n",
       "close : float\n",
       "    The close price.\n",
       "volume : Union[float, int]\n",
       "    The trading volume.\n",
       "vwap : Optional[Annotated[float, Gt(gt=0)]]\n",
       "    Volume Weighted Average Price over the period.\n",
       "label : Optional[str]\n",
       "    Human readable format of the date. (provider: fmp)\n",
       "adj_close : Optional[float]\n",
       "    Adjusted Close Price of the symbol. (provider: fmp); Adjusted closing price during the period. (provider: intrinio)\n",
       "unadjusted_volume : Optional[float]\n",
       "    Unadjusted volume of the symbol. (provider: fmp)\n",
       "change : Optional[float]\n",
       "    Change in the price of the symbol from the previous day. (provider: fmp, intrinio)\n",
       "change_percent : Optional[float]\n",
       "    Change % in the price of the symbol. (provider: fmp)\n",
       "change_over_time : Optional[float]\n",
       "    Change % in the price of the symbol over a period of time. (provider: fmp)\n",
       "close_time : Optional[datetime]\n",
       "    The timestamp that represents the end of the interval span. (provider: intrinio)\n",
       "interval : Optional[str]\n",
       "    The data time frequency. (provider: intrinio)\n",
       "average : Optional[float]\n",
       "    Average trade price of an individual equity during the interval. (provider: intrinio)\n",
       "intra_period : Optional[bool]\n",
       "    If true, the equity price represents an unfinished period (be it day, week, quarter, month, or year), meaning that the close price is the latest price available, not the official close price for the period (provider: intrinio)\n",
       "adj_open : Optional[float]\n",
       "    Adjusted open price during the period. (provider: intrinio)\n",
       "adj_high : Optional[float]\n",
       "    Adjusted high price during the period. (provider: intrinio)\n",
       "adj_low : Optional[float]\n",
       "    Adjusted low price during the period. (provider: intrinio)\n",
       "adj_volume : Optional[float]\n",
       "    Adjusted volume during the period. (provider: intrinio)\n",
       "factor : Optional[float]\n",
       "    factor by which to multiply equity prices before this date, in order to calculate historically-adjusted equity prices. (provider: intrinio)\n",
       "split_ratio : Optional[float]\n",
       "    Ratio of the equity split, if a equity split occurred. (provider: intrinio)\n",
       "dividend : Optional[float]\n",
       "    Dividend amount, if a dividend was paid. (provider: intrinio)\n",
       "percent_change : Optional[float]\n",
       "    Percent change in the price of the symbol from the previous day. (provider: intrinio)\n",
       "fifty_two_week_high : Optional[float]\n",
       "    52 week high price for the symbol. (provider: intrinio)\n",
       "fifty_two_week_low : Optional[float]\n",
       "    52 week low price for the symbol. (provider: intrinio)\n",
       "transactions : Optional[Annotated[int, Gt(gt=0)]]\n",
       "    Number of transactions for the symbol in the time period. (provider: polygon)\n",
       "\n",
       "Example\n",
       "-------\n",
       ">>> from openbb import obb\n",
       ">>> obb.equity.price.historical(symbol=\"AAPL\", interval=\"1d\")\n",
       "\u001b[0;31mFile:\u001b[0m      ~/Code/OpenBBTerminal/openbb_platform/openbb/package/equity_price.py\n",
       "\u001b[0;31mType:\u001b[0m      method"
      ]
     },
     "metadata": {},
     "output_type": "display_data"
    }
   ],
   "source": [
    "obb.equity.price.historical?"
   ]
  }
 ],
 "metadata": {
  "kernelspec": {
   "display_name": "Python 3 (ipykernel)",
   "language": "python",
   "name": "python3"
  },
  "language_info": {
   "codemirror_mode": {
    "name": "ipython",
    "version": 3
   },
   "file_extension": ".py",
   "mimetype": "text/x-python",
   "name": "python",
   "nbconvert_exporter": "python",
   "pygments_lexer": "ipython3",
   "version": "3.10.12"
  }
 },
 "nbformat": 4,
 "nbformat_minor": 5
}
