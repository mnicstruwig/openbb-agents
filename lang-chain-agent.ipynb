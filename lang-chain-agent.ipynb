{
 "cells": [
  {
   "cell_type": "markdown",
   "metadata": {},
   "source": [
    "## Let's see if we can wire this up to an openbb function\n",
    "(Even if it's hardcoded for now)\n",
    "\n",
    "\n",
    "- Agent\n",
    "- Tools\n",
    "- Prompt\n",
    "- AgentExecutor (runtime)\n"
   ]
  },
  {
   "cell_type": "code",
   "execution_count": 4,
   "metadata": {},
   "outputs": [],
   "source": [
    "import inspect\n",
    "\n",
    "from openbb import obb\n",
    "from openbb_core.app.router import CommandMap\n",
    "from openbb_core.app.provider_interface import ProviderInterface"
   ]
  },
  {
   "cell_type": "code",
   "execution_count": 5,
   "metadata": {},
   "outputs": [],
   "source": [
    "from langchain.chat_models import ChatOpenAI\n",
    "from langchain.agents import tool, Tool, AgentExecutor, AgentOutputParser\n",
    "from langchain.agents.format_scratchpad import format_to_openai_function_messages\n",
    "from langchain.agents.output_parsers import OpenAIFunctionsAgentOutputParser\n",
    "\n",
    "from langchain.prompts import ChatPromptTemplate, MessagesPlaceholder\n",
    "from langchain.tools.render import format_tool_to_openai_function\n",
    "from langchain.tools import StructuredTool"
   ]
  },
  {
   "cell_type": "code",
   "execution_count": 6,
   "metadata": {},
   "outputs": [],
   "source": [
    "from pydantic.v1 import create_model, BaseModel\n",
    "from pydantic.v1.fields import FieldInfo\n",
    "from pydantic_core import PydanticUndefinedType"
   ]
  },
  {
   "cell_type": "markdown",
   "metadata": {},
   "source": [
    "Goal: let's make it easy to convert an OpenBB function --> Langchain / openai function.\n",
    "\n",
    "Schema comes from the ProviderInterface  \n",
    "Function / Endpoint map comes from CommandMap + scraping the Members"
   ]
  },
  {
   "cell_type": "code",
   "execution_count": 8,
   "metadata": {},
   "outputs": [],
   "source": [
    "# All the magic lives in here\n",
    "from utils import map_openbb_collection_to_langchain_tools\n",
    "fundamental_tools = map_openbb_collection_to_langchain_tools(\"/equity/fundamental\")"
   ]
  },
  {
   "cell_type": "code",
   "execution_count": 181,
   "metadata": {},
   "outputs": [],
   "source": [
    "# Let's add some memory\n",
    "MEMORY_KEY = \"chat_history\"\n",
    "\n",
    "# Create our prompt\n",
    "prompt = ChatPromptTemplate.from_messages(\n",
    "    [\n",
    "        (\n",
    "            \"system\",\n",
    "            \"\"\"You're a powerful financial advisor.\n",
    "            Do your best to answer the questions,\n",
    "            and make use of the tools provided, paying special attention to the outputs they provide.\"\"\"\n",
    "        ),\n",
    "        MessagesPlaceholder(variable_name=MEMORY_KEY),\n",
    "        (\n",
    "            \"user\",\n",
    "            \"{input}\",\n",
    "        ),\n",
    "        MessagesPlaceholder(variable_name=\"agent_scratchpad\")\n",
    "    ]\n",
    ")\n",
    "\n",
    "# Bind our tools\n",
    "llm = ChatOpenAI(model=\"gpt-4-1106-preview\")\n",
    "llm_with_tools = llm.bind(functions=[format_tool_to_openai_function(t) for t in compare_tools])  # Never forget!\n",
    "\n",
    "\n",
    "# Create the agent\n",
    "agent = (\n",
    "    {\n",
    "        \"input\": lambda x: x[\"input\"],\n",
    "        \"agent_scratchpad\": lambda x: format_to_openai_function_messages(\n",
    "            x[\"intermediate_steps\"]\n",
    "        ),\n",
    "        \"chat_history\": lambda x: x[\"chat_history\"]\n",
    "    }\n",
    "    | prompt\n",
    "    | llm_with_tools\n",
    "    | OpenAIFunctionsAgentOutputParser()\n",
    ")\n",
    "\n",
    "agent_executor = AgentExecutor(agent=agent, tools=compare_tools, verbose=True)"
   ]
  },
  {
   "cell_type": "code",
   "execution_count": 183,
   "metadata": {},
   "outputs": [
    {
     "data": {
      "text/plain": [
       "langchain.schema.runnable.base.RunnableSequence"
      ]
     },
     "execution_count": 183,
     "metadata": {},
     "output_type": "execute_result"
    }
   ],
   "source": [
    "type(agent)"
   ]
  },
  {
   "cell_type": "code",
   "execution_count": 156,
   "metadata": {},
   "outputs": [
    {
     "name": "stdout",
     "output_type": "stream",
     "text": [
      "\u001b[0;31mInit signature:\u001b[0m \u001b[0mOpenAIFunctionsAgentOutputParser\u001b[0m\u001b[0;34m(\u001b[0m\u001b[0;34m)\u001b[0m \u001b[0;34m->\u001b[0m \u001b[0;32mNone\u001b[0m\u001b[0;34m\u001b[0m\u001b[0;34m\u001b[0m\u001b[0m\n",
      "\u001b[0;31mDocstring:\u001b[0m     \n",
      "Parses a message into agent action/finish.\n",
      "\n",
      "Is meant to be used with OpenAI models, as it relies on the specific\n",
      "function_call parameter from OpenAI to convey what tools to use.\n",
      "\n",
      "If a function_call parameter is passed, then that is used to get\n",
      "the tool and tool input.\n",
      "\n",
      "If one is not passed, then the AIMessage is assumed to be the final output.\n",
      "\u001b[0;31mInit docstring:\u001b[0m\n",
      "Create a new model by parsing and validating input data from keyword arguments.\n",
      "\n",
      "Raises ValidationError if the input data cannot be parsed to form a valid model.\n",
      "\u001b[0;31mFile:\u001b[0m           ~/miniforge3/envs/ds/lib/python3.10/site-packages/langchain/agents/output_parsers/openai_functions.py\n",
      "\u001b[0;31mType:\u001b[0m           ModelMetaclass\n",
      "\u001b[0;31mSubclasses:\u001b[0m     "
     ]
    }
   ],
   "source": [
    "OpenAIFunctionsAgentOutputParser?"
   ]
  },
  {
   "cell_type": "code",
   "execution_count": null,
   "metadata": {},
   "outputs": [],
   "source": [
    "chat_history = []"
   ]
  },
  {
   "cell_type": "code",
   "execution_count": null,
   "metadata": {},
   "outputs": [
    {
     "name": "stdout",
     "output_type": "stream",
     "text": [
      "\n",
      "\n",
      "\u001b[1m> Entering new AgentExecutor chain...\u001b[0m\n",
      "\u001b[32;1m\u001b[1;3m\n",
      "Invoking: `peers` with `{'symbol': 'TSLA'}`\n",
      "\n",
      "\n",
      "\u001b[0m\u001b[36;1m\u001b[1;3mpeers_list=['XPEV', 'LI', 'RIVN', 'LCID', 'GM', 'NIO', 'F', 'FSR', 'MULN']\u001b[0m\u001b[32;1m\u001b[1;3mThe competitors for Tesla, Inc. (TSLA) include various companies in the electric vehicle (EV) and broader automotive industry. Here's a list of some of the competitors:\n",
      "\n",
      "1. XPeng Inc. (XPEV) - A Chinese electric vehicle manufacturer.\n",
      "2. Li Auto Inc. (LI) - Another Chinese company that specializes in electric vehicles.\n",
      "3. Rivian Automotive, Inc. (RIVN) - An American electric vehicle automaker that focuses on trucks and SUVs.\n",
      "4. Lucid Group, Inc. (LCID) - An American EV manufacturer that produces luxury electric vehicles.\n",
      "5. General Motors Company (GM) - A traditional automotive company based in the United States that is expanding into the EV market.\n",
      "6. NIO Inc. (NIO) - A Chinese electric vehicle manufacturer that produces smart, connected EVs.\n",
      "7. Ford Motor Company (F) - An established global automotive manufacturer that's increasing its investment in electric vehicles.\n",
      "8. Fisker Inc. (FSR) - An American electric vehicle company that is developing electric passenger vehicles.\n",
      "9. Mullen Automotive, Inc. (MULN) - An American electric vehicle manufacturer.\n",
      "\n",
      "These companies are considered competitors to Tesla because they either currently offer electric vehicles as part of their product lines or are actively developing EVs to compete in the growing market that Tesla currently leads.\u001b[0m\n",
      "\n",
      "\u001b[1m> Finished chain.\u001b[0m\n"
     ]
    }
   ],
   "source": [
    "from langchain.schema.messages import AIMessage, HumanMessage\n",
    "\n",
    "human_input = \"List the competitors for TSLA. Use tools.\"\n",
    "\n",
    "response = agent_executor.invoke(\n",
    "    {\n",
    "        \"input\": human_input,\n",
    "        \"chat_history\": chat_history\n",
    "    }\n",
    "    \n",
    ")\n",
    "\n",
    "chat_history.extend(\n",
    "    [\n",
    "        HumanMessage(content=human_input),\n",
    "        AIMessage(content=response[\"output\"])\n",
    "    ]\n",
    ")"
   ]
  },
  {
   "cell_type": "code",
   "execution_count": null,
   "metadata": {},
   "outputs": [
    {
     "name": "stdout",
     "output_type": "stream",
     "text": [
      "The competitors for Tesla, Inc. (TSLA) include various companies in the electric vehicle (EV) and broader automotive industry. Here's a list of some of the competitors:\n",
      "\n",
      "1. XPeng Inc. (XPEV) - A Chinese electric vehicle manufacturer.\n",
      "2. Li Auto Inc. (LI) - Another Chinese company that specializes in electric vehicles.\n",
      "3. Rivian Automotive, Inc. (RIVN) - An American electric vehicle automaker that focuses on trucks and SUVs.\n",
      "4. Lucid Group, Inc. (LCID) - An American EV manufacturer that produces luxury electric vehicles.\n",
      "5. General Motors Company (GM) - A traditional automotive company based in the United States that is expanding into the EV market.\n",
      "6. NIO Inc. (NIO) - A Chinese electric vehicle manufacturer that produces smart, connected EVs.\n",
      "7. Ford Motor Company (F) - An established global automotive manufacturer that's increasing its investment in electric vehicles.\n",
      "8. Fisker Inc. (FSR) - An American electric vehicle company that is developing electric passenger vehicles.\n",
      "9. Mullen Automotive, Inc. (MULN) - An American electric vehicle manufacturer.\n",
      "\n",
      "These companies are considered competitors to Tesla because they either currently offer electric vehicles as part of their product lines or are actively developing EVs to compete in the growing market that Tesla currently leads.\n"
     ]
    }
   ],
   "source": [
    "print(response['output'])"
   ]
  },
  {
   "cell_type": "markdown",
   "metadata": {},
   "source": [
    "# Let's explore different agents"
   ]
  },
  {
   "cell_type": "code",
   "execution_count": 66,
   "metadata": {},
   "outputs": [],
   "source": [
    "from langchain import hub\n",
    "from langchain.tools.render import render_text_description_and_args\n",
    "from langchain.agents.format_scratchpad import format_log_to_str # Used for ReAct framework\n",
    "from langchain.agents.output_parsers import JSONAgentOutputParser\n",
    "from langchain.agents import AgentExecutor\n",
    "\n",
    "def langchain_react_agent(tools):\n",
    "    prompt = hub.pull(\"hwchase17/react-multi-input-json\")\n",
    "    prompt = prompt.partial(\n",
    "        tools=render_text_description_and_args(tools),\n",
    "        tool_names=\", \".join([t.name for t in tools])\n",
    "    )\n",
    "\n",
    "    llm = ChatOpenAI(model=\"gpt-4-1106-preview\").bind(stop=[\"\\nObservation\"])\n",
    "\n",
    "    chain = (\n",
    "        {\n",
    "            \"input\": lambda x: x[\"input\"],\n",
    "            \"agent_scratchpad\": lambda x: format_log_to_str(x[\"intermediate_steps\"])\n",
    "        }\n",
    "        | prompt\n",
    "        | llm\n",
    "        | JSONAgentOutputParser()\n",
    "    )\n",
    "\n",
    "    agent_executor = AgentExecutor(agent=chain, tools=tools, verbose=True)\n",
    "    return agent_executor\n",
    "\n",
    "agent_executor=langchain_react_agent(tools=fundamental_tools[:5])"
   ]
  },
  {
   "cell_type": "code",
   "execution_count": 69,
   "metadata": {},
   "outputs": [
    {
     "name": "stdout",
     "output_type": "stream",
     "text": [
      "\n",
      "\n",
      "\u001b[1m> Entering new AgentExecutor chain...\u001b[0m\n",
      "\u001b[32;1m\u001b[1;3mAction:\n",
      "```json\n",
      "{\n",
      "  \"action\": \"balance\",\n",
      "  \"action_input\": {\n",
      "    \"symbol\": \"AAPL\",\n",
      "    \"limit\": 5\n",
      "  }\n",
      "}\n",
      "```\u001b[0m\u001b[33;1m\u001b[1;3m[FMPBalanceSheetData(symbol=AAPL, date=2023-09-30, cik=0000320193, currency=USD, filling_date=None, accepted_date=2023-11-02 18:08:27, period=FY, cash_and_cash_equivalents=29965000000.0, short_term_investments=31590000000.0, long_term_investments=100544000000.0, inventory=6331000000.0, net_receivables=60985000000.0, marketable_securities=None, property_plant_equipment_net=43715000000.0, goodwill=0.0, assets=352583000000.0, current_assets=143566000000.0, other_current_assets=14695000000.0, intangible_assets=0.0, tax_assets=0.0, non_current_assets=209017000000.0, other_non_current_assets=64758000000.0, account_payables=62611000000.0, tax_payables=0.0, deferred_revenue=8061000000.0, other_assets=0.0, total_assets=None, long_term_debt=95281000000.0, short_term_debt=15807000000.0, liabilities=290437000000.0, other_current_liabilities=58829000000.0, current_liabilities=145308000000.0, total_liabilities_and_total_equity=352583000000.0, other_non_current_liabilities=49848000000.0, non_current_liabilities=145129000000.0, total_liabilities_and_stockholders_equity=352583000000.0, other_stockholder_equity=0.0, total_stockholders_equity=62146000000.0, other_liabilities=0.0, total_liabilities=None, common_stock=73812000000.0, preferred_stock=0.0, accumulated_other_comprehensive_income_loss=-11452000000.0, retained_earnings=-214000000.0, minority_interest=0.0, total_equity=62146000000.0, calendar_year=2023, cash_and_short_term_investments=61555000000, goodwill_and_intangible_assets=0, deferred_revenue_non_current=0, total_investments=31590000000, capital_lease_obligations=0, deferred_tax_liabilities_non_current=0, total_debt=111088000000, net_debt=81123000000, link=https://www.sec.gov/Archives/edgar/data/320193/000032019323000106/0000320193-23-000106-index.htm, final_link=https://www.sec.gov/Archives/edgar/data/320193/000032019323000106/aapl-20230930.htm, filing_date=2023-11-03), FMPBalanceSheetData(symbol=AAPL, date=2022-09-24, cik=0000320193, currency=USD, filling_date=None, accepted_date=2022-10-27 18:01:14, period=FY, cash_and_cash_equivalents=23646000000.0, short_term_investments=24658000000.0, long_term_investments=120805000000.0, inventory=4946000000.0, net_receivables=60932000000.0, marketable_securities=None, property_plant_equipment_net=42117000000.0, goodwill=0.0, assets=352755000000.0, current_assets=135405000000.0, other_current_assets=21223000000.0, intangible_assets=0.0, tax_assets=0.0, non_current_assets=217350000000.0, other_non_current_assets=54428000000.0, account_payables=64115000000.0, tax_payables=0.0, deferred_revenue=7912000000.0, other_assets=0.0, total_assets=None, long_term_debt=98959000000.0, short_term_debt=21110000000.0, liabilities=302083000000.0, other_current_liabilities=60845000000.0, current_liabilities=153982000000.0, total_liabilities_and_total_equity=352755000000.0, other_non_current_liabilities=49142000000.0, non_current_liabilities=148101000000.0, total_liabilities_and_stockholders_equity=352755000000.0, other_stockholder_equity=0.0, total_stockholders_equity=50672000000.0, other_liabilities=0.0, total_liabilities=None, common_stock=64849000000.0, preferred_stock=0.0, accumulated_other_comprehensive_income_loss=-11109000000.0, retained_earnings=-3068000000.0, minority_interest=0.0, total_equity=50672000000.0, calendar_year=2022, cash_and_short_term_investments=48304000000, goodwill_and_intangible_assets=0, deferred_revenue_non_current=0, total_investments=145463000000, capital_lease_obligations=0, deferred_tax_liabilities_non_current=0, total_debt=120069000000, net_debt=96423000000, link=https://www.sec.gov/Archives/edgar/data/320193/000032019322000108/0000320193-22-000108-index.htm, final_link=https://www.sec.gov/Archives/edgar/data/320193/000032019322000108/aapl-20220924.htm, filing_date=2022-10-28), FMPBalanceSheetData(symbol=AAPL, date=2021-09-25, cik=0000320193, currency=USD, filling_date=None, accepted_date=2021-10-28 18:04:28, period=FY, cash_and_cash_equivalents=34940000000.0, short_term_investments=27699000000.0, long_term_investments=127877000000.0, inventory=6580000000.0, net_receivables=51506000000.0, marketable_securities=None, property_plant_equipment_net=39440000000.0, goodwill=0.0, assets=351002000000.0, current_assets=134836000000.0, other_current_assets=14111000000.0, intangible_assets=0.0, tax_assets=0.0, non_current_assets=216166000000.0, other_non_current_assets=48849000000.0, account_payables=54763000000.0, tax_payables=0.0, deferred_revenue=7612000000.0, other_assets=0.0, total_assets=None, long_term_debt=109106000000.0, short_term_debt=15613000000.0, liabilities=287912000000.0, other_current_liabilities=47493000000.0, current_liabilities=125481000000.0, total_liabilities_and_total_equity=351002000000.0, other_non_current_liabilities=53325000000.0, non_current_liabilities=162431000000.0, total_liabilities_and_stockholders_equity=351002000000.0, other_stockholder_equity=0.0, total_stockholders_equity=63090000000.0, other_liabilities=0.0, total_liabilities=None, common_stock=57365000000.0, preferred_stock=0.0, accumulated_other_comprehensive_income_loss=163000000.0, retained_earnings=5562000000.0, minority_interest=0.0, total_equity=63090000000.0, calendar_year=2021, cash_and_short_term_investments=62639000000, goodwill_and_intangible_assets=0, deferred_revenue_non_current=0, total_investments=155576000000, capital_lease_obligations=0, deferred_tax_liabilities_non_current=0, total_debt=124719000000, net_debt=89779000000, link=https://www.sec.gov/Archives/edgar/data/320193/000032019321000105/0000320193-21-000105-index.htm, final_link=https://www.sec.gov/Archives/edgar/data/320193/000032019321000105/aapl-20210925.htm, filing_date=2021-10-29), FMPBalanceSheetData(symbol=AAPL, date=2020-09-26, cik=0000320193, currency=USD, filling_date=None, accepted_date=2020-10-29 18:06:25, period=FY, cash_and_cash_equivalents=38016000000.0, short_term_investments=52927000000.0, long_term_investments=100887000000.0, inventory=4061000000.0, net_receivables=37445000000.0, marketable_securities=None, property_plant_equipment_net=36766000000.0, goodwill=0.0, assets=323888000000.0, current_assets=143713000000.0, other_current_assets=11264000000.0, intangible_assets=0.0, tax_assets=0.0, non_current_assets=180175000000.0, other_non_current_assets=42522000000.0, account_payables=42296000000.0, tax_payables=0.0, deferred_revenue=6643000000.0, other_assets=0.0, total_assets=None, long_term_debt=98667000000.0, short_term_debt=13769000000.0, liabilities=258549000000.0, other_current_liabilities=42684000000.0, current_liabilities=105392000000.0, total_liabilities_and_total_equity=323888000000.0, other_non_current_liabilities=54490000000.0, non_current_liabilities=153157000000.0, total_liabilities_and_stockholders_equity=323888000000.0, other_stockholder_equity=0.0, total_stockholders_equity=65339000000.0, other_liabilities=0.0, total_liabilities=None, common_stock=50779000000.0, preferred_stock=0.0, accumulated_other_comprehensive_income_loss=-406000000.0, retained_earnings=14966000000.0, minority_interest=0.0, total_equity=65339000000.0, calendar_year=2020, cash_and_short_term_investments=90943000000, goodwill_and_intangible_assets=0, deferred_revenue_non_current=0, total_investments=153814000000, capital_lease_obligations=0, deferred_tax_liabilities_non_current=0, total_debt=112436000000, net_debt=74420000000, link=https://www.sec.gov/Archives/edgar/data/320193/000032019320000096/0000320193-20-000096-index.htm, final_link=https://www.sec.gov/Archives/edgar/data/320193/000032019320000096/aapl-20200926.htm, filing_date=2020-10-30), FMPBalanceSheetData(symbol=AAPL, date=2019-09-28, cik=0000320193, currency=USD, filling_date=None, accepted_date=2019-10-30 18:12:36, period=FY, cash_and_cash_equivalents=48844000000.0, short_term_investments=51713000000.0, long_term_investments=105341000000.0, inventory=4106000000.0, net_receivables=45804000000.0, marketable_securities=None, property_plant_equipment_net=37378000000.0, goodwill=0.0, assets=338516000000.0, current_assets=162819000000.0, other_current_assets=12352000000.0, intangible_assets=0.0, tax_assets=0.0, non_current_assets=175697000000.0, other_non_current_assets=32978000000.0, account_payables=46236000000.0, tax_payables=0.0, deferred_revenue=5522000000.0, other_assets=0.0, total_assets=None, long_term_debt=91807000000.0, short_term_debt=16240000000.0, liabilities=248028000000.0, other_current_liabilities=37720000000.0, current_liabilities=105718000000.0, total_liabilities_and_total_equity=338516000000.0, other_non_current_liabilities=50503000000.0, non_current_liabilities=142310000000.0, total_liabilities_and_stockholders_equity=338516000000.0, other_stockholder_equity=0.0, total_stockholders_equity=90488000000.0, other_liabilities=0.0, total_liabilities=None, common_stock=45174000000.0, preferred_stock=0.0, accumulated_other_comprehensive_income_loss=-584000000.0, retained_earnings=45898000000.0, minority_interest=0.0, total_equity=90488000000.0, calendar_year=2019, cash_and_short_term_investments=100557000000, goodwill_and_intangible_assets=0, deferred_revenue_non_current=0, total_investments=157054000000, capital_lease_obligations=0, deferred_tax_liabilities_non_current=0, total_debt=108047000000, net_debt=59203000000, link=https://www.sec.gov/Archives/edgar/data/320193/000032019319000119/0000320193-19-000119-index.htm, final_link=https://www.sec.gov/Archives/edgar/data/320193/000032019319000119/a10-k20199282019.htm, filing_date=2019-10-31)]\u001b[0m\u001b[32;1m\u001b[1;3mAction:\n",
      "```json\n",
      "{\n",
      "  \"action\": \"Final Answer\",\n",
      "  \"action_input\": \"The cash on hand for Apple Inc. (AAPL) over the past five fiscal years is as follows:\\n- FY 2023: $29.965 billion\\n- FY 2022: $23.646 billion\\n- FY 2021: $34.94 billion\\n- FY 2020: $38.016 billion\\n- FY 2019: $48.844 billion\\nThis data represents the cash and cash equivalents reported in the annual balance sheet for each respective fiscal year.\"\n",
      "}\n",
      "```\u001b[0m\n",
      "\n",
      "\u001b[1m> Finished chain.\u001b[0m\n"
     ]
    },
    {
     "data": {
      "text/plain": [
       "{'input': 'How much cash has AAPL had on hand over the years?',\n",
       " 'output': 'The cash on hand for Apple Inc. (AAPL) over the past five fiscal years is as follows:\\n- FY 2023: $29.965 billion\\n- FY 2022: $23.646 billion\\n- FY 2021: $34.94 billion\\n- FY 2020: $38.016 billion\\n- FY 2019: $48.844 billion\\nThis data represents the cash and cash equivalents reported in the annual balance sheet for each respective fiscal year.'}"
      ]
     },
     "execution_count": 69,
     "metadata": {},
     "output_type": "execute_result"
    }
   ],
   "source": [
    "agent_executor.invoke({\"input\": \"How much cash has AAPL had on hand over the years?\"})"
   ]
  }
 ],
 "metadata": {
  "kernelspec": {
   "display_name": "ds",
   "language": "python",
   "name": "python3"
  },
  "language_info": {
   "codemirror_mode": {
    "name": "ipython",
    "version": 3
   },
   "file_extension": ".py",
   "mimetype": "text/x-python",
   "name": "python",
   "nbconvert_exporter": "python",
   "pygments_lexer": "ipython3",
   "version": "3.10.12"
  }
 },
 "nbformat": 4,
 "nbformat_minor": 2
}
