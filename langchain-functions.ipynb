{
 "cells": [
  {
   "cell_type": "code",
   "execution_count": 1,
   "id": "12f9ab54-e0ea-4e45-bf0f-c3f4f3f275f0",
   "metadata": {},
   "outputs": [],
   "source": [
    "# Let's explore some agents"
   ]
  },
  {
   "cell_type": "code",
   "execution_count": 2,
   "id": "3bdf663f-bb72-41e5-ae59-b26249856858",
   "metadata": {},
   "outputs": [
    {
     "data": {
      "text/plain": [
       "AIMessage(content='There are 6 letters in the word \"educa\".')"
      ]
     },
     "execution_count": 2,
     "metadata": {},
     "output_type": "execute_result"
    }
   ],
   "source": [
    "from langchain.chat_models import ChatOpenAI\n",
    "\n",
    "llm = ChatOpenAI(model=\"gpt-3.5-turbo\", temperature=0)\n",
    "llm.invoke(\"How many letters in the word educa?\")"
   ]
  },
  {
   "cell_type": "code",
   "execution_count": 3,
   "id": "aa969eda-3f9e-4fb5-abef-c02cc5ec1a0b",
   "metadata": {},
   "outputs": [],
   "source": [
    "from langchain.agents import tool\n",
    "\n",
    "@tool\n",
    "def get_word_length(word: str) -> int:\n",
    "    \"\"\"Return the length of a word.\"\"\"\n",
    "    return len(word)\n",
    "\n",
    "tools = [get_word_length]"
   ]
  },
  {
   "cell_type": "code",
   "execution_count": 4,
   "id": "996d32f0-52d0-4855-9872-f5fff2fe20dd",
   "metadata": {},
   "outputs": [],
   "source": [
    "from langchain.prompts import ChatPromptTemplate, MessagesPlaceholder\n",
    "\n",
    "prompt = ChatPromptTemplate.from_messages(\n",
    "    [\n",
    "        (\"system\", \"You're a powerful assistant, but bad at calculating lengths of words.\"),\n",
    "        (\"user\", \"{input}\"),\n",
    "        MessagesPlaceholder(variable_name=\"agent_scratchpad\"),\n",
    "    ]\n",
    ")"
   ]
  },
  {
   "cell_type": "code",
   "execution_count": 17,
   "id": "8958d5d2-c3b7-4a01-af6d-0c7b827ecd48",
   "metadata": {},
   "outputs": [],
   "source": [
    "from langchain.tools.render import format_tool_to_openai_function\n",
    "\n",
    "# Binding passes in the tools each time we invoke the model\n",
    "llm_with_tools = llm.bind(functions=[format_tool_to_openai_function(t) for t in tools])\n",
    "\n",
    "# Thoughts: Does this use up the context?"
   ]
  },
  {
   "cell_type": "code",
   "execution_count": 22,
   "id": "30c403b0-4b85-4259-8922-24289b6de02d",
   "metadata": {},
   "outputs": [],
   "source": [
    "from langchain.agents.format_scratchpad import format_to_openai_function_messages\n",
    "from langchain.agents.output_parsers import OpenAIFunctionsAgentOutputParser\n",
    "\n",
    "agent = (\n",
    "    {\n",
    "        \"input\": lambda x: x[\"input\"],\n",
    "        \"agent_scratchpad\": lambda x: format_to_openai_function_messages(\n",
    "            x[\"intermediate_steps\"]\n",
    "        ),\n",
    "    }\n",
    "    | prompt\n",
    "    | llm_with_tools\n",
    "    | OpenAIFunctionsAgentOutputParser()\n",
    ")"
   ]
  },
  {
   "cell_type": "code",
   "execution_count": 29,
   "id": "9eeebc5f-8811-4183-8ed5-d99104d82957",
   "metadata": {},
   "outputs": [
    {
     "data": {
      "text/plain": [
       "AgentActionMessageLog(tool='get_word_length', tool_input={'word': 'educa'}, log=\"\\nInvoking: `get_word_length` with `{'word': 'educa'}`\\n\\n\\n\", message_log=[AIMessage(content='', additional_kwargs={'function_call': {'arguments': '{\\n  \"word\": \"educa\"\\n}', 'name': 'get_word_length'}})])"
      ]
     },
     "execution_count": 29,
     "metadata": {},
     "output_type": "execute_result"
    }
   ],
   "source": [
    "response = agent.invoke({\"input\": \"How many letters in the word educa?\", \"intermediate_steps\": []})\n",
    "response"
   ]
  },
  {
   "cell_type": "code",
   "execution_count": 41,
   "id": "f8386d3b-9bd5-423f-8f2a-f795890da36e",
   "metadata": {},
   "outputs": [
    {
     "name": "stdout",
     "output_type": "stream",
     "text": [
      "OUTPUT: tool='get_word_length' tool_input={'word': 'educa'} log=\"\\nInvoking: `get_word_length` with `{'word': 'educa'}`\\n\\n\\n\" message_log=[AIMessage(content='', additional_kwargs={'function_call': {'arguments': '{\\n  \"word\": \"educa\"\\n}', 'name': 'get_word_length'}})]\n",
      "TOOL NAME: get_word_length\n",
      "TOOL INPUT: {'word': 'educa'}\n",
      "OUTPUT: tool='get_word_length' tool_input={'word': 'praya'} log=\"\\nInvoking: `get_word_length` with `{'word': 'praya'}`\\n\\n\\n\" message_log=[AIMessage(content='', additional_kwargs={'function_call': {'arguments': '{\\n  \"word\": \"praya\"\\n}', 'name': 'get_word_length'}})]\n",
      "TOOL NAME: get_word_length\n",
      "TOOL INPUT: {'word': 'praya'}\n",
      "The word \"educa\" has 5 letters, and the word \"praya\" also has 5 letters.\n"
     ]
    }
   ],
   "source": [
    "# But we need a runtime in order to be able to handle the agents and executing functions.\n",
    "\n",
    "from langchain.schema.agent import AgentFinish\n",
    "\n",
    "# The world's most basic runtime\n",
    "user_input = \"how many letters in the word educa? and how many letters in the word praya?\"\n",
    "intermediate_steps = []\n",
    "while True:\n",
    "    output = agent.invoke(\n",
    "        {\n",
    "            \"input\": user_input,\n",
    "            \"intermediate_steps\": intermediate_steps,\n",
    "        }\n",
    "    )\n",
    "\n",
    "    # If we encounter the finish\n",
    "    if isinstance(output, AgentFinish):\n",
    "        final_result = output.return_values[\"output\"]\n",
    "        break\n",
    "    else:  # If we don't, we continue\n",
    "        print(f\"OUTPUT: {output}\")\n",
    "        print(f\"TOOL NAME: {output.tool}\")\n",
    "        print(f\"TOOL INPUT: {output.tool_input}\")\n",
    "        tool = {\"get_word_length\": get_word_length}[output.tool]  # this is ugly, but it'll do for now because we only have one tool\n",
    "        observation = tool.run(output.tool_input)\n",
    "        intermediate_steps.append((output, observation))\n",
    "print(final_result)"
   ]
  },
  {
   "cell_type": "code",
   "execution_count": 42,
   "id": "4d27866e-d9b1-4176-b5da-110ce05fe314",
   "metadata": {},
   "outputs": [],
   "source": [
    "# Luckily there's ome included executors\n",
    "from langchain.agents import AgentExecutor\n",
    "\n",
    "agent_executor = AgentExecutor(agent=agent, tools=tools, verbose=True)"
   ]
  },
  {
   "cell_type": "code",
   "execution_count": 44,
   "id": "3d365346-34bd-4fc9-8ee9-a9678f3ef2f7",
   "metadata": {},
   "outputs": [
    {
     "name": "stdout",
     "output_type": "stream",
     "text": [
      "\n",
      "\n",
      "\u001b[1m> Entering new AgentExecutor chain...\u001b[0m\n",
      "\u001b[32;1m\u001b[1;3m\n",
      "Invoking: `get_word_length` with `{'word': 'educa'}`\n",
      "\n",
      "\n",
      "\u001b[0m\u001b[36;1m\u001b[1;3m5\u001b[0m\u001b[32;1m\u001b[1;3m\n",
      "Invoking: `get_word_length` with `{'word': 'superaya'}`\n",
      "\n",
      "\n",
      "\u001b[0m\u001b[36;1m\u001b[1;3m8\u001b[0m\u001b[32;1m\u001b[1;3mThe word \"educa\" has 5 letters, while the word \"superaya\" has 8 letters.\u001b[0m\n",
      "\n",
      "\u001b[1m> Finished chain.\u001b[0m\n"
     ]
    },
    {
     "data": {
      "text/plain": [
       "{'input': 'how many letters in the world educa? What about the word superaya?',\n",
       " 'output': 'The word \"educa\" has 5 letters, while the word \"superaya\" has 8 letters.'}"
      ]
     },
     "execution_count": 44,
     "metadata": {},
     "output_type": "execute_result"
    }
   ],
   "source": [
    "agent_executor.invoke(\n",
    "    {\"input\": \"how many letters in the world educa? What about the word superaya?\"}\n",
    ")"
   ]
  },
  {
   "cell_type": "code",
   "execution_count": 45,
   "id": "2fb0c649-c90a-45af-a13a-7c53e5807fd7",
   "metadata": {},
   "outputs": [],
   "source": [
    "# All right, let's add memory to make things stateful.\n",
    "\n",
    "from langchain.prompts import MessagesPlaceholder\n",
    "\n",
    "MEMORY_KEY = \"chat_history\"\n",
    "prompt = ChatPromptTemplate.from_messages(\n",
    "    [\n",
    "        (\n",
    "            \"system\", \"You are a powerful assistant, but bad at calculating lengths of words.\"\n",
    "        ),\n",
    "        MessagesPlaceholder(variable_name=MEMORY_KEY),\n",
    "        (\"user\", \"{input}\"),\n",
    "        MessagesPlaceholder(variable_name=\"agent_scratchpad\")\n",
    "    ]\n",
    ")"
   ]
  },
  {
   "cell_type": "code",
   "execution_count": 46,
   "id": "228a6fad-1c0f-4c18-bca2-a38f5bb34326",
   "metadata": {},
   "outputs": [],
   "source": [
    "# Let's keep track of the chat history\n",
    "from langchain.schema.messages import AIMessage, HumanMessage\n",
    "\n",
    "chat_history = []"
   ]
  },
  {
   "cell_type": "code",
   "execution_count": 47,
   "id": "77766b1b-2852-485c-9345-a5617ad3b36c",
   "metadata": {},
   "outputs": [],
   "source": [
    "# Let's put it together\n",
    "agent = (\n",
    "    {\n",
    "        \"input\": lambda x: x[\"input\"],\n",
    "        \"agent_scratchpad\": lambda x: format_to_openai_function_messages(x[\"intermediate_steps\"]),\n",
    "        \"chat_history\": lambda x: x[\"chat_history\"],\n",
    "    }\n",
    "    | prompt\n",
    "    | llm_with_tools\n",
    "    | OpenAIFunctionsAgentOutputParser()\n",
    ")\n",
    "\n",
    "agent_executor = AgentExecutor(agent=agent, tools=tools, verbose=True)"
   ]
  },
  {
   "cell_type": "code",
   "execution_count": 48,
   "id": "f4a1b8a6-0fa5-432f-85c5-dabd8ebf5451",
   "metadata": {},
   "outputs": [
    {
     "data": {
      "text/plain": [
       "[]"
      ]
     },
     "execution_count": 48,
     "metadata": {},
     "output_type": "execute_result"
    }
   ],
   "source": []
  },
  {
   "cell_type": "code",
   "execution_count": 49,
   "id": "eca4eba1-d440-4246-a64a-7fd7ea88badb",
   "metadata": {},
   "outputs": [
    {
     "name": "stdout",
     "output_type": "stream",
     "text": [
      "\n",
      "\n",
      "\u001b[1m> Entering new AgentExecutor chain...\u001b[0m\n",
      "\u001b[32;1m\u001b[1;3m\n",
      "Invoking: `get_word_length` with `{'word': 'educa'}`\n",
      "\n",
      "\n",
      "\u001b[0m\u001b[36;1m\u001b[1;3m5\u001b[0m\u001b[32;1m\u001b[1;3mThere are 5 letters in the word \"educa\".\u001b[0m\n",
      "\n",
      "\u001b[1m> Finished chain.\u001b[0m\n",
      "\n",
      "\n",
      "\u001b[1m> Entering new AgentExecutor chain...\u001b[0m\n",
      "\u001b[32;1m\u001b[1;3m\n",
      "Invoking: `get_word_length` with `{'word': 'educa'}`\n",
      "\n",
      "\n",
      "\u001b[0m\u001b[36;1m\u001b[1;3m5\u001b[0m\u001b[32;1m\u001b[1;3mThe word \"educa\" is not a real word. It was just used as an example to calculate the number of letters in a word.\u001b[0m\n",
      "\n",
      "\u001b[1m> Finished chain.\u001b[0m\n"
     ]
    },
    {
     "data": {
      "text/plain": [
       "{'input': 'is that a real word?',\n",
       " 'chat_history': [HumanMessage(content='how many letters in the word educa?'),\n",
       "  AIMessage(content='There are 5 letters in the word \"educa\".')],\n",
       " 'output': 'The word \"educa\" is not a real word. It was just used as an example to calculate the number of letters in a word.'}"
      ]
     },
     "execution_count": 49,
     "metadata": {},
     "output_type": "execute_result"
    }
   ],
   "source": [
    "# Let's do some magic\n",
    "input1 = \"how many letters in the word educa?\"\n",
    "result = agent_executor.invoke(\n",
    "    {\n",
    "        \"input\": input1, \"chat_history\": chat_history\n",
    "    }\n",
    ")\n",
    "\n",
    "chat_history.extend(\n",
    "    [\n",
    "        HumanMessage(content=input1),\n",
    "        AIMessage(content=result[\"output\"]),\n",
    "    ]\n",
    ")\n",
    "\n",
    "# Execute a second step\n",
    "agent_executor.invoke(\n",
    "    {\n",
    "        \"input\": \"is that a real word?\",\n",
    "        \"chat_history\": chat_history\n",
    "    }\n",
    ")"
   ]
  },
  {
   "cell_type": "markdown",
   "id": "080d1698-f433-437a-a3c6-1fd1985f613f",
   "metadata": {},
   "source": [
    "## Let's see if we can wire this up to an openbb function\n",
    "(Even if it's hardcoded for now)\n",
    "\n",
    "\n",
    "- Agent\n",
    "- Tools\n",
    "- Prompt\n",
    "- AgentExecutor (runtime)\n"
   ]
  },
  {
   "cell_type": "code",
   "execution_count": 5,
   "id": "e514fe7d-cf1d-4ad4-8650-26ab4f5b3e1a",
   "metadata": {},
   "outputs": [],
   "source": [
    "import inspect\n",
    "\n",
    "from openbb import obb\n",
    "from openbb_core.app.router import CommandMap\n",
    "from openbb_core.app.provider_interface import ProviderInterface"
   ]
  },
  {
   "cell_type": "code",
   "execution_count": 6,
   "id": "bc051eb6-1fd4-4e72-a6ea-28d92f9f2bdd",
   "metadata": {},
   "outputs": [],
   "source": [
    "from langchain.chat_models import ChatOpenAI\n",
    "from langchain.agents import tool, Tool, AgentExecutor, AgentOutputParser\n",
    "from langchain.agents.format_scratchpad import format_to_openai_function_messages\n",
    "from langchain.agents.output_parsers import OpenAIFunctionsAgentOutputParser\n",
    "\n",
    "from langchain.prompts import ChatPromptTemplate, MessagesPlaceholder\n",
    "from langchain.tools.render import format_tool_to_openai_function\n",
    "from langchain.tools import StructuredTool"
   ]
  },
  {
   "cell_type": "code",
   "execution_count": 7,
   "id": "a4827053-7812-4296-a149-a1b69b2641ac",
   "metadata": {},
   "outputs": [],
   "source": [
    "from pydantic.v1 import create_model, BaseModel\n",
    "from pydantic.v1.fields import FieldInfo\n",
    "from pydantic_core import PydanticUndefinedType"
   ]
  },
  {
   "cell_type": "markdown",
   "id": "1a430011-70aa-406b-abaa-7aefa5389b34",
   "metadata": {},
   "source": [
    "Goal: let's make it easy to convert an OpenBB function --> Langchain / openai function.\n",
    "\n",
    "Schema comes from the ProviderInterface  \n",
    "Function / Endpoint map comes from CommandMap + scraping the Members"
   ]
  },
  {
   "cell_type": "code",
   "execution_count": 9,
   "id": "e080a069-36c6-4958-9973-81ca30b2ea79",
   "metadata": {},
   "outputs": [],
   "source": [
    "def _fetch_obb_module(openbb_command_root):\n",
    "    module_path_split = openbb_command_root.split(\"/\")[1:]\n",
    "    module_path = '.'.join(module_path_split)\n",
    "\n",
    "    # Iteratively get module\n",
    "    module = obb\n",
    "    for attr in module_path.split('.'):\n",
    "        module=getattr(module, attr)\n",
    "\n",
    "    return module\n",
    "\n",
    "def _fetch_schemas(openbb_command_root):\n",
    "    # Ugly hack to make it compatiable\n",
    "    # (even though we convert it back)\n",
    "    # so that we have a nicer API.\n",
    "    module_root_path = openbb_command_root.replace(\"/\", \".\")\n",
    "    schemas = {\n",
    "        k.replace('.', '/'): v for k, v in obb.coverage.command_model.items() if module_root_path in k\n",
    "    }\n",
    "    return schemas\n",
    "\n",
    "def _fetch_callables(openbb_command_root):\n",
    "    module = _fetch_obb_module(openbb_command_root)\n",
    "    members = inspect.getmembers(module)\n",
    "    members_dict = {x[0]: x[1] for x in members if '__' not in x[0] and '_run' not in x[0]}\n",
    "\n",
    "    schemas = _fetch_schemas(openbb_command_root)\n",
    "\n",
    "    # Create callables dict, with the same key as used in the schemas\n",
    "    callables = {}\n",
    "    for k in schemas.keys():\n",
    "        try:\n",
    "            callables[k] = members_dict[k.split('/')[-1]] \n",
    "        except KeyError:  # Sometimes we don't have a specific callable for an endpoint, so we skip.\n",
    "            pass\n",
    "    return callables\n",
    "\n",
    "fundamental_schemas = _fetch_schemas('/equity/fundamental')\n",
    "fundamental_callables = _fetch_callables('/equity/fundamental')"
   ]
  },
  {
   "cell_type": "code",
   "execution_count": 97,
   "id": "91920565-1808-4b23-b382-7b4c48415771",
   "metadata": {},
   "outputs": [],
   "source": [
    "from typing import get_args\n",
    "def _fetch_outputs(schema):\n",
    "    outputs = []\n",
    "    output_fields = schema['openbb']['Data']['fields']\n",
    "    for name, t in output_fields.items():\n",
    "        if isinstance(t.annotation, type):\n",
    "            type_str = t.annotation.__name__\n",
    "        else:\n",
    "            type_str = str(t.annotation).replace(\"typing.\", \"\")\n",
    "        outputs.append((name, type_str))\n",
    "    return outputs"
   ]
  },
  {
   "cell_type": "code",
   "execution_count": 35,
   "id": "cf40534c-5e5c-4004-8809-5ef5dacc3b76",
   "metadata": {},
   "outputs": [],
   "source": [
    "from typing import get_origin, Literal\n",
    "\n",
    "def from_schema_to_pydantic_model(model_name, schema):\n",
    "    create_model_kwargs = {}\n",
    "    for field, field_info in schema.items():\n",
    "\n",
    "        field_type = field_info.annotation\n",
    "\n",
    "        # Handle default values\n",
    "        if not isinstance(field_info.default, PydanticUndefinedType):\n",
    "            field_default_value = field_info.default\n",
    "            new_field_info = FieldInfo(  # Weird hack, because of how the default field value works\n",
    "                description=field_info.description,\n",
    "                default=field_default_value,\n",
    "            )\n",
    "        else:\n",
    "            new_field_info = FieldInfo(\n",
    "                description=field_info.description,\n",
    "            )\n",
    "        create_model_kwargs[field] = (field_type, new_field_info)\n",
    "    return create_model(model_name, **create_model_kwargs)"
   ]
  },
  {
   "cell_type": "code",
   "execution_count": 38,
   "id": "b2959354-8c7d-49d4-a846-8d1c9902ed7e",
   "metadata": {},
   "outputs": [],
   "source": [
    "# Time for a little decorator magic (even though we won't use it as a decorator\n",
    "\n",
    "def return_results(func):\n",
    "    def wrapper_func(*args, **kwargs):\n",
    "        return func(*args, **kwargs).results\n",
    "    return wrapper_func\n"
   ]
  },
  {
   "cell_type": "code",
   "execution_count": 129,
   "id": "fafc6334-6ce3-487e-8c58-e6905b169a98",
   "metadata": {},
   "outputs": [],
   "source": [
    "def from_openbb_to_langchain_func(openbb_callable, openbb_schema):\n",
    "    func_name = openbb_callable.__name__\n",
    "    func_schema = openbb_schema['openbb']['QueryParams']['fields']\n",
    "    \n",
    "    pydantic_model = from_schema_to_pydantic_model(\n",
    "        model_name=f'{func_name}InputModel',\n",
    "        schema=func_schema\n",
    "    )\n",
    "\n",
    "    outputs = _fetch_outputs(openbb_schema)\n",
    "    description = openbb_callable.__doc__.split(\"\\n\")[0]\n",
    "    description += \"\\nThe following data is available:\\n\\n\"\n",
    "    description += \"\\n\".join(e[0] for e in outputs)\n",
    "\n",
    "    tool = StructuredTool(\n",
    "        name = func_name,\n",
    "        func=return_results(openbb_callable),\n",
    "        description=description,\n",
    "        args_schema=pydantic_model\n",
    "    )\n",
    "\n",
    "    return tool"
   ]
  },
  {
   "cell_type": "code",
   "execution_count": 130,
   "id": "7b8e8cb6-0638-42a1-a72f-9a89b7890690",
   "metadata": {},
   "outputs": [],
   "source": [
    "def map_openbb_functions_to_langchain_tools(schemas_dict, callables_dict):\n",
    "    tools = []\n",
    "    for route in callables_dict.keys():\n",
    "        tool = from_openbb_to_langchain_func(\n",
    "            openbb_callable=callables_dict[route],\n",
    "            openbb_schema=schemas_dict[route]\n",
    "        )\n",
    "        tools.append(tool)\n",
    "    return tools"
   ]
  },
  {
   "cell_type": "code",
   "execution_count": 131,
   "id": "bc919623-116c-4bdb-9107-8ebd65236e8c",
   "metadata": {},
   "outputs": [],
   "source": [
    "def map_openbb_collection_to_langchain_tools(openbb_command_root):\n",
    "    schemas = _fetch_schemas(openbb_command_root)\n",
    "    callables = _fetch_callables(openbb_command_root)\n",
    "    tools = map_openbb_functions_to_langchain_tools(\n",
    "        schemas_dict=schemas,\n",
    "        callables_dict=callables\n",
    "    )\n",
    "    return tools"
   ]
  },
  {
   "cell_type": "code",
   "execution_count": 157,
   "id": "9b6b99ec-ad81-436f-98bf-296eecefd2b0",
   "metadata": {},
   "outputs": [],
   "source": [
    "fundamental_tools = map_openbb_collection_to_langchain_tools(\"/equity/fundamental\")\n",
    "compare_tools = map_openbb_collection_to_langchain_tools(\"/equity/compare\")"
   ]
  },
  {
   "cell_type": "code",
   "execution_count": 208,
   "id": "60f45417-5118-4ad7-bc7d-a3dd95c89e46",
   "metadata": {},
   "outputs": [],
   "source": [
    "# Let's add some memory\n",
    "MEMORY_KEY = \"chat_history\"\n",
    "\n",
    "# Create our prompt\n",
    "prompt = ChatPromptTemplate.from_messages(\n",
    "    [\n",
    "        (\n",
    "            \"system\",\n",
    "            \"\"\"You're a powerful financial advisor.\n",
    "            Do your best to answer the questions,\n",
    "            and make use of the tools provided, paying special attention to the outputs they provide.\"\"\"\n",
    "        ),\n",
    "        MessagesPlaceholder(variable_name=MEMORY_KEY),\n",
    "        (\n",
    "            \"user\",\n",
    "            \"{input}\",\n",
    "        ),\n",
    "        MessagesPlaceholder(variable_name=\"agent_scratchpad\")\n",
    "    ]\n",
    ")\n",
    "\n",
    "# Bind our tools\n",
    "# llm = ChatOpenAI(model=\"gpt-4-1106-preview\")\n",
    "llm_with_tools = llm.bind(functions=[format_tool_to_openai_function(t) for t in compare_tools])\n",
    "\n",
    "\n",
    "# Create the agent\n",
    "agent = (\n",
    "    {\n",
    "        \"input\": lambda x: x[\"input\"],\n",
    "        \"agent_scratchpad\": lambda x: format_to_openai_function_messages(\n",
    "            x[\"intermediate_steps\"]\n",
    "        ),\n",
    "        \"chat_history\": lambda x: x[\"chat_history\"]\n",
    "    }\n",
    "    | prompt\n",
    "    | llm\n",
    "    | OpenAIFunctionsAgentOutputParser()\n",
    ")\n",
    "\n",
    "agent_executor = AgentExecutor(agent=agent, tools=compare_tools, verbose=True)"
   ]
  },
  {
   "cell_type": "code",
   "execution_count": 206,
   "id": "199986b9-5b71-4f3a-89ad-73ada70d0b4b",
   "metadata": {},
   "outputs": [],
   "source": [
    "chat_history = []"
   ]
  },
  {
   "cell_type": "code",
   "execution_count": 207,
   "id": "06e35278-e061-4062-8c7c-7de29c8324b2",
   "metadata": {},
   "outputs": [
    {
     "name": "stdout",
     "output_type": "stream",
     "text": [
      "\n",
      "\n",
      "\u001b[1m> Entering new AgentExecutor chain...\u001b[0m\n",
      "\u001b[32;1m\u001b[1;3mSony Corporation and Apple Inc. (AAPL) are competitors in various segments of the electronics and entertainment industries. Here are the primary reasons why Sony is considered a competitor to Apple:\n",
      "\n",
      "1. **Consumer Electronics**: Both companies produce a range of consumer electronics. Apple is well-known for its iPhones, iPads, Mac computers, Apple Watch, and other devices. Sony, on the other hand, offers its own laptops, tablets, and smartphones, although it has a smaller market share in these areas compared to Apple.\n",
      "\n",
      "2. **Audio Products**: Sony has a strong presence in the audio industry, with products like headphones, earbuds, and home audio systems. Apple, with its AirPods, HomePod, and the acquisition of Beats, also competes in the high-end audio segment.\n",
      "\n",
      "3. **Gaming**: Sony's PlayStation consoles compete with Apple's gaming offerings, which are part of its App Store ecosystem. While Apple does not produce dedicated gaming consoles, its devices support gaming, and the introduction of the Apple Arcade service has put Apple in more direct competition with traditional gaming companies like Sony.\n",
      "\n",
      "4. **Entertainment and Content**: Both companies have made strides into the content creation and distribution industry. Sony Pictures Entertainment is a major producer of films and television programs, while Apple launched its Apple TV+ streaming service to produce and distribute original content.\n",
      "\n",
      "5. **Cameras and Imaging**: Sony is a leading manufacturer of professional and consumer cameras, as well as image sensors used in a variety of devices, including smartphones. Apple's focus on the camera capabilities of its iPhones puts the two in competition, especially as smartphone photography becomes increasingly sophisticated.\n",
      "\n",
      "6. **Wearable Technology**: Apple's success with the Apple Watch has made it a leader in wearable technology. Sony also has had entries into this market, though with less prominence than Apple.\n",
      "\n",
      "While Sony competes with Apple in numerous areas, the two companies also operate in different niche markets and have their own unique strengths. Apple's ecosystem, brand loyalty, and focus on integration across its devices and services are key competitive advantages. Sony, on the other hand, has a diversified portfolio including its gaming division, professional electronics, and entertainment properties.\u001b[0m\n",
      "\n",
      "\u001b[1m> Finished chain.\u001b[0m\n",
      "Sony Corporation and Apple Inc. (AAPL) are competitors in various segments of the electronics and entertainment industries. Here are the primary reasons why Sony is considered a competitor to Apple:\n",
      "\n",
      "1. **Consumer Electronics**: Both companies produce a range of consumer electronics. Apple is well-known for its iPhones, iPads, Mac computers, Apple Watch, and other devices. Sony, on the other hand, offers its own laptops, tablets, and smartphones, although it has a smaller market share in these areas compared to Apple.\n",
      "\n",
      "2. **Audio Products**: Sony has a strong presence in the audio industry, with products like headphones, earbuds, and home audio systems. Apple, with its AirPods, HomePod, and the acquisition of Beats, also competes in the high-end audio segment.\n",
      "\n",
      "3. **Gaming**: Sony's PlayStation consoles compete with Apple's gaming offerings, which are part of its App Store ecosystem. While Apple does not produce dedicated gaming consoles, its devices support gaming, and the introduction of the Apple Arcade service has put Apple in more direct competition with traditional gaming companies like Sony.\n",
      "\n",
      "4. **Entertainment and Content**: Both companies have made strides into the content creation and distribution industry. Sony Pictures Entertainment is a major producer of films and television programs, while Apple launched its Apple TV+ streaming service to produce and distribute original content.\n",
      "\n",
      "5. **Cameras and Imaging**: Sony is a leading manufacturer of professional and consumer cameras, as well as image sensors used in a variety of devices, including smartphones. Apple's focus on the camera capabilities of its iPhones puts the two in competition, especially as smartphone photography becomes increasingly sophisticated.\n",
      "\n",
      "6. **Wearable Technology**: Apple's success with the Apple Watch has made it a leader in wearable technology. Sony also has had entries into this market, though with less prominence than Apple.\n",
      "\n",
      "While Sony competes with Apple in numerous areas, the two companies also operate in different niche markets and have their own unique strengths. Apple's ecosystem, brand loyalty, and focus on integration across its devices and services are key competitive advantages. Sony, on the other hand, has a diversified portfolio including its gaming division, professional electronics, and entertainment properties.\n"
     ]
    }
   ],
   "source": [
    "from langchain.schema.messages import AIMessage, HumanMessage\n",
    "\n",
    "human_input = \"Why is Sony a competitor for AAPL?\"\n",
    "\n",
    "response = agent_executor.invoke(\n",
    "    {\n",
    "        \"input\": human_input, \"chat_history\": chat_history\n",
    "    }\n",
    "    \n",
    ")\n",
    "\n",
    "chat_history.extend(\n",
    "    [\n",
    "        HumanMessage(content=human_input),\n",
    "        AIMessage(content=response[\"output\"])\n",
    "    ]\n",
    ")\n",
    "\n",
    "print(response['output'])"
   ]
  },
  {
   "cell_type": "markdown",
   "id": "fe9392a1-65c4-43d4-97c4-0137b0a710d4",
   "metadata": {},
   "source": [
    "# Let's explore different agents"
   ]
  },
  {
   "cell_type": "code",
   "execution_count": 222,
   "id": "1642ce56-c8cc-481c-9aa6-279cfb9904a0",
   "metadata": {},
   "outputs": [],
   "source": [
    "from langchain import hub\n",
    "from langchain.agents import initialize_agent\n",
    "prompt = hub.pull(\"hwchase17/react\")"
   ]
  },
  {
   "cell_type": "code",
   "execution_count": 221,
   "id": "550a3bad-4588-4cbf-987d-72a629bc353a",
   "metadata": {},
   "outputs": [],
   "source": []
  },
  {
   "cell_type": "code",
   "execution_count": 200,
   "id": "272f0747-93db-426f-84ad-c4cc35d51c55",
   "metadata": {},
   "outputs": [
    {
     "data": {
      "text/plain": [
       "[HumanMessage(content=\"Who are AAPL's competitors?\"),\n",
       " AIMessage(content='Apple Inc. (AAPL) competes with a variety of companies in different segments of the electronics and technology markets. Some of its competitors include:\\n\\n- LG Display Co Ltd (LPL)\\n- Sony Group Corporation (SNEJF)\\n- Panasonic Corporation (PCRFY)\\n- Sonos, Inc. (SONO)\\n- Vizio Holding Corp (VZIO)\\n- mCloud Technologies Corp (MICS)\\n- Worlds Inc (WLDSW)\\n- Koss Corporation (KOSS)\\n- GoPro, Inc. (GPRO)\\n- Sony Corporation (SONY)\\n- Universal Electronics Inc. (UEIC)\\n- Turtle Beach Corporation (HEAR)\\n- Vuzix Corporation (VUZI)\\n- Worlds Inc. (WLDS)\\n\\nPlease note that the competitive landscape for Apple is broad and includes many other companies not listed here, due to its diverse product range including smartphones, computers, tablets, wearables, and services.'),\n",
       " HumanMessage(content='Why is Sony a competitor for AAPL?'),\n",
       " AIMessage(content=\"Sony Corporation is considered a competitor to Apple Inc. (AAPL) for several reasons:\\n\\n1. **Consumer Electronics**: Sony produces a wide range of consumer electronic products that compete directly with Apple's product lines. For example, Sony's smartphones and tablets compete with Apple's iPhones and iPads.\\n\\n2. **Audio Products**: Sony is well-known for its audio products, including headphones and speakers, which are in direct competition with Apple's AirPods, HomePods, and the Beats product line.\\n\\n3. **Gaming Consoles**: Sony's PlayStation consoles compete with Apple's gaming offerings, including Apple Arcade, for the attention and spending of gamers.\\n\\n4. **Laptops and Computers**: Sony has offered laptops and computers in the past that competed with Apple's MacBook and iMac lines.\\n\\n5. **Content and Services**: Sony has its own music and video services, which compete with Apple Music and Apple TV+.\\n\\n6. **Cameras and Imaging Technology**: While Sony may not directly compete with Apple in the smartphone camera market, Sony is a major manufacturer of camera sensors, including those used in smartphones. Apple's advancements in camera technology can be seen as competitive to Sony's imaging business.\\n\\n7. **Wearable Technology**: Sony also produces wearable technology, which competes with the Apple Watch.\\n\\nThe overlap in product offerings and target markets between Sony and Apple makes Sony a significant competitor in multiple areas where Apple operates.\")]"
      ]
     },
     "execution_count": 200,
     "metadata": {},
     "output_type": "execute_result"
    }
   ],
   "source": [
    "response['chat_history']"
   ]
  },
  {
   "cell_type": "code",
   "execution_count": null,
   "id": "38ab5bcf-deef-4a71-8dcd-6092ca9a65ec",
   "metadata": {},
   "outputs": [],
   "source": []
  }
 ],
 "metadata": {
  "kernelspec": {
   "display_name": "Python 3 (ipykernel)",
   "language": "python",
   "name": "python3"
  },
  "language_info": {
   "codemirror_mode": {
    "name": "ipython",
    "version": 3
   },
   "file_extension": ".py",
   "mimetype": "text/x-python",
   "name": "python",
   "nbconvert_exporter": "python",
   "pygments_lexer": "ipython3",
   "version": "3.10.12"
  }
 },
 "nbformat": 4,
 "nbformat_minor": 5
}
